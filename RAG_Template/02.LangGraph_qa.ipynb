{
 "cells": [
  {
   "cell_type": "code",
   "execution_count": 1,
   "id": "848dbd15",
   "metadata": {},
   "outputs": [
    {
     "data": {
      "text/plain": [
       "True"
      ]
     },
     "execution_count": 1,
     "metadata": {},
     "output_type": "execute_result"
    }
   ],
   "source": [
    "from dotenv import load_dotenv\n",
    "load_dotenv()"
   ]
  },
  {
   "cell_type": "code",
   "execution_count": 2,
   "id": "50776c77",
   "metadata": {},
   "outputs": [],
   "source": [
    "from RAG.retriever import QdrantRetrieverFactory\n",
    "# from RAG.rag import rag\n",
    "from RAG.rag import rag"
   ]
  },
  {
   "cell_type": "code",
   "execution_count": 3,
   "id": "5a652ae7",
   "metadata": {},
   "outputs": [],
   "source": [
    "qs = QdrantRetrieverFactory()"
   ]
  },
  {
   "cell_type": "code",
   "execution_count": 4,
   "id": "5dc9656c",
   "metadata": {},
   "outputs": [],
   "source": [
    "retriever = qs.retriever(collection_name=\"RAG_Template\", fetch_k=3)\n",
    "compression_retriever = qs.compression_retriever(collection_name=\"RAG_Template\", fetch_k=10, top_n=3)"
   ]
  },
  {
   "cell_type": "code",
   "execution_count": 5,
   "id": "3527d2e7",
   "metadata": {},
   "outputs": [
    {
     "name": "stdout",
     "output_type": "stream",
     "text": [
      "향후 연구 및 개발 방향으로는 Agentic RAG 시스템의 자동 오류 감지 및 회복 로직 강화, 도 메인 특화 워크플로우의 최적화, 다양한 LLM 및 임베딩 모델의 정량적 성능 평가, 그리고 실시간 사용자 피드백을 반영한 동적 워크플로우 개선 등이 중요하게 제시된다. 즉, RAG와 Agentic RAG 시스템의 성능은 LLM 모델 선택, 텍스트 분할 기법, 임베딩 전략, 그리고 워크플로우의 명확한 상태 관리 및 분기 조건 설계에 의해 결 정된다. 이러한 후속 연구가 이루어진다면, RAG 및 Agentic RAG 시스템의 안정성과 효율성, 그 리고 실질적인 활용 가능성이 더욱 높아질 것으 로 기대된다.\n",
      "\n",
      "## REFERENCES\n"
     ]
    }
   ],
   "source": [
    "print(retriever.invoke(\"Agentic-RAG\")[0].page_content)"
   ]
  },
  {
   "cell_type": "code",
   "execution_count": 6,
   "id": "81c731b7",
   "metadata": {},
   "outputs": [],
   "source": [
    "chain = rag(retriever)"
   ]
  },
  {
   "cell_type": "code",
   "execution_count": 7,
   "id": "6423f148",
   "metadata": {},
   "outputs": [],
   "source": [
    "answer = chain.invoke({\"question\": \"LangGraph 핵심 구성요소를 요약해줘\", \"chat_history\": \"[]\"})"
   ]
  },
  {
   "cell_type": "code",
   "execution_count": 8,
   "id": "2735a421",
   "metadata": {},
   "outputs": [
    {
     "name": "stdout",
     "output_type": "stream",
     "text": [
      "LangGraph의 핵심 구성요소는 다음과 같다:\n",
      "\n",
      "1. **그래프 기반 상태기계(State Machine) 모델링**: 언어 모델 워크플로우를 그래프 형태로 표현하여 각 노드에서의 작업, 상태 전이, 데이터 흐름을 명확히 시각화함.\n",
      "2. **노드와 엣지 조합을 통한 제어 흐름 구현**: 조건 분기, 반복 실행, 오류 처리 등을 노드와 엣지의 조합만으로 손쉽게 구현 가능.\n",
      "3. **멀티에이전트 협업 구조 설계**: 복잡한 다중 에이전트 협업을 그래프 형태로 직관적으로 설계할 수 있음.\n",
      "4. **오케스트레이션 및 상태 지속성, 체크포인트 기능**: 작업의 중단과 재개, 상태 저장 등을 지원하여 안정적인 워크플로우 관리 가능.\n",
      "\n",
      "**Source**  \n",
      "- docling_outputs\\LangGraph-Based Integrated Architecture for CrewAI Multi-Agent.pdf.md (p.1-2)\n"
     ]
    }
   ],
   "source": [
    "print(answer)"
   ]
  },
  {
   "cell_type": "code",
   "execution_count": 9,
   "id": "5e2f248f",
   "metadata": {},
   "outputs": [],
   "source": [
    "# chain_rerank = rag(compression_retriever)\n",
    "# chain_rerank.invoke({\"question\": \"AgenticRAG 장점\"})"
   ]
  },
  {
   "cell_type": "markdown",
   "id": "55172c8e",
   "metadata": {},
   "source": [
    "# State정의"
   ]
  },
  {
   "cell_type": "code",
   "execution_count": 10,
   "id": "1b56889c",
   "metadata": {},
   "outputs": [],
   "source": [
    "from typing import Annotated, TypedDict,Sequence\n",
    "from langchain_core.messages import BaseMessage\n",
    "from langgraph.graph import add_messages\n",
    "\n",
    "class GraphState(TypedDict):\n",
    "    question: Annotated[str, \"Question\"]\n",
    "    context: Annotated[str, \"Context\"]\n",
    "    answer: Annotated[str, \"Answer\"]\n",
    "    messages: Annotated[Sequence[BaseMessage], add_messages]\n",
    "    "
   ]
  },
  {
   "cell_type": "code",
   "execution_count": 11,
   "id": "2b3d365a",
   "metadata": {},
   "outputs": [],
   "source": [
    "from langchain_core.messages import HumanMessage, AIMessage\n",
    "\n",
    "def get_message_history(state):\n",
    "    ret = []\n",
    "    for chat_message in state[\"messages\"]:\n",
    "        if chat_message.role ==\"user\":\n",
    "            ret.append(HumanMessage(content=chat_message.content))\n",
    "        else:\n",
    "            ret.append(AIMessage(content=chat_message.content))\n",
    "            \n",
    "    return ret\n",
    "\n",
    "def retrieve_node(state):\n",
    "    question = state[\"question\"]\n",
    "    retrieved_docs = retriever.invoke(question)\n",
    "    \n",
    "    return {\"context\": retrieved_docs}\n",
    "from langchain_teddynote.messages import messages_to_history\n",
    "def llm_answer_node(state):\n",
    "    question = state[\"question\"]\n",
    "    context = state[\"context\"]\n",
    "    \n",
    "    response = chain.invoke({\"question\": question, \"context\": context, \"chat_history\": messages_to_history(state[\"messages\"]),})\n",
    "    \n",
    "    return {\n",
    "        \"answer\": response,\n",
    "        \"messages\": [HumanMessage(content=question), AIMessage(content=str(response))],\n",
    "    }"
   ]
  },
  {
   "cell_type": "markdown",
   "id": "07a98983",
   "metadata": {},
   "source": [
    "# 그래프 생성"
   ]
  },
  {
   "cell_type": "code",
   "execution_count": 12,
   "id": "c23fc91b",
   "metadata": {},
   "outputs": [],
   "source": [
    "from langgraph.graph import StateGraph, START, END\n",
    "from langgraph.checkpoint.memory import MemorySaver\n",
    "\n",
    "workflow = StateGraph(GraphState)\n",
    "\n",
    "workflow.add_node(\"retrieve\", retrieve_node)\n",
    "workflow.add_node(\"llm_answer\", llm_answer_node)\n",
    "\n",
    "workflow.add_edge(START, \"retrieve\")\n",
    "workflow.add_edge(\"retrieve\", \"llm_answer\")\n",
    "workflow.add_edge(\"llm_answer\", END)\n",
    "\n",
    "memory = MemorySaver()\n",
    "\n",
    "app = workflow.compile(checkpointer=memory)\n"
   ]
  },
  {
   "cell_type": "code",
   "execution_count": 13,
   "id": "e9bceecf",
   "metadata": {},
   "outputs": [
    {
     "data": {
      "image/png": "[encoded data removed]",
      "text/plain": [
       "<langgraph.graph.state.CompiledStateGraph object at 0x0000024E12645210>"
      ]
     },
     "execution_count": 13,
     "metadata": {},
     "output_type": "execute_result"
    }
   ],
   "source": [
    "app"
   ]
  },
  {
   "cell_type": "code",
   "execution_count": 14,
   "id": "03a9e320",
   "metadata": {},
   "outputs": [
    {
     "name": "stdout",
     "output_type": "stream",
     "text": [
      "\n",
      "==================================================\n",
      "🔄 Node: \u001b[1;36mretrieve\u001b[0m 🔄\n",
      "- - - - - - - - - - - - - - - - - - - - - - - - - \n",
      "page_content='## 4.3 AI Agent에서의 경험\n",
      "\n",
      "최근 대형 언어모델(LLM)의 발전과 더불어, 복 잡한 작업을 자동화할 수 있는 AI Agent 시스템 의 필요성이 크게 부각되고 있다. 특히, 문서 기 반 답변에서 RAG가 등장하면서, 단순한 답변 생 성에서 벗어나 문맥 파악, 동적 추론, 그리고 다 양한 도구 호출 등 복합적인 워크플로우를 스스 로 설계하고 실행할 수 있는 Agentic RAG 구조 가 주목받고 있다. 이러한 시스템은 사용자의 질 문 의도와 문맥을 파악한 뒤, 필요한 도구를 선 택해 호출하거나, 복수의 에이전트가 협력하여 문제를 해결하는 Multi-Agent System으로 확장 될 수 있다는 점에서 기존 RAG와 구별된다. 본 논문에서는 이처럼 동적인 워크플로우 설계, 문 맥 기반 의사결정, 자동 도구 활용이 가능해진 Agentic RAG 구현 경험과, 실제 운용 과정에서 얻은 실무적 인사이트를 중심으로 각 툴과 시스 템의 특징을 분석하였다.' metadata={'source': 'docling_outputs\\\\insight_Agentic.pdf.md', '_id': 'ddc9498a-c974-4efd-946d-836c5daf7de4', '_collection_name': 'RAG_Template'}\n",
      "page_content='## Ⅱ. 배경 및 기존연구\n",
      "\n",
      "단일 에이전트 시스템의 대표격인 AutoGPT는 ReAct(Reasoning+Acting) 패턴을 활용하여 단일 LLM이 일련의 작업을 순차적으로 수행하는 구조를 제시하였다. 이러한 방식은 복잡한 문제를 하나의 거대한 체인으로 해결한다는 점에서 혁신적이었으나, 협업이 필요한 복합 시나리오에서는 명확한 한계를 드러냈다[5]. 이어 등장한 AutoGen은 전문가 에이전 트 간의 협업과 사용자 프록시 개념을 도입하여 대 화형 코드 생성과 협력적 문제 해결에 대한 가능성 을 확장했다. CrewAI는 에이전트와 태스크, 크루의 명확한 역할 구분을 통해 협업 효율성과 구조적 확 장성을 동시에 달성하였고, 특히 엔티티 기반 장기 메모리와 시나리오 기반 팀워크 설계가 실제 업무에 적합함을 입증했다[3][6].' metadata={'source': 'docling_outputs\\\\LangGraph-Based Integrated Architecture for CrewAI Multi-Agent.pdf.md', '_id': '900748ee-907d-411a-a873-1ace965662e2', '_collection_name': 'RAG_Template'}\n",
      "page_content='그러나 최근 MCP 및 AI Agent 기술이 빠르게 발 전함에 따라, 실제 현업 및 서비스 환경에서는 RAG의 중요성이 다시금 부각되고 있다고 필자는 판단한다. 본 논문은 이러한 최신 기술 동향을 고려할 때, 기존 fine-tuning 중심의 접근법만으로는 한계가 존재하며, RAG가 향후 LLM 기반 AI 시스템에서 더욱 전략적이 고 핵심적인 역할을 할 것으로 기대한다[1]. 이에 본 연구에서는 RAG를 중심으로 한 경험적 분석과 실제 적용 사례를 제시하고, AI Agent 환경에서의 RAG 설 계및운용상의인사이트를제공하고자한다.' metadata={'source': 'docling_outputs\\\\insight_Agentic.pdf.md', '_id': 'ab4deb4a-72bd-416f-ab60-f1707273d33a', '_collection_name': 'RAG_Template'}\n",
      "==================================================\n",
      "\n",
      "==================================================\n",
      "🔄 Node: \u001b[1;36mllm_answer\u001b[0m 🔄\n",
      "- - - - - - - - - - - - - - - - - - - - - - - - - \n",
      "\u001b[1;32manswer\u001b[0m:\n",
      "AgenticAI의 장점은 복잡한 작업을 자동화할 수 있으며, 문맥 파악, 동적 추론, 다양한 도구 호출 등 복합적인 워크플로우를 스스로 설계하고 실행할 수 있다는 점입니다. 또한, 사용자의 질문 의도와 문맥을 이해해 필요한 도구를 선택하거나, 복수의 에이전트가 협력하는 Multi-Agent System으로 확장 가능해 기존 RAG와 차별화됩니다. 이를 통해 협업 효율성과 문제 해결 능력이 향상됩니다.\n",
      "\n",
      "**Source**  \n",
      "- docling_outputs\\insight_Agentic.pdf.md (4.3 AI Agent에서의 경험)  \n",
      "- docling_outputs\\LangGraph-Based Integrated Architecture for CrewAI Multi-Agent.pdf.md (Ⅱ. 배경 및 기존연구)\n",
      "================================\u001b[1m Human Message \u001b[0m=================================\n",
      "\n",
      "AgenticAI가 좋은점은??\n",
      "==================================\u001b[1m Ai Message \u001b[0m==================================\n",
      "\n",
      "AgenticAI의 장점은 복잡한 작업을 자동화할 수 있으며, 문맥 파악, 동적 추론, 다양한 도구 호출 등 복합적인 워크플로우를 스스로 설계하고 실행할 수 있다는 점입니다. 또한, 사용자의 질문 의도와 문맥을 이해해 필요한 도구를 선택하거나, 복수의 에이전트가 협력하는 Multi-Agent System으로 확장 가능해 기존 RAG와 차별화됩니다. 이를 통해 협업 효율성과 문제 해결 능력이 향상됩니다.\n",
      "\n",
      "**Source**  \n",
      "- docling_outputs\\insight_Agentic.pdf.md (4.3 AI Agent에서의 경험)  \n",
      "- docling_outputs\\LangGraph-Based Integrated Architecture for CrewAI Multi-Agent.pdf.md (Ⅱ. 배경 및 기존연구)\n",
      "==================================================\n"
     ]
    }
   ],
   "source": [
    "from langchain_core.runnables import RunnableConfig\n",
    "from langchain_teddynote.messages import invoke_graph, stream_graph, random_uuid\n",
    "\n",
    "# config 설정(재귀 최대 횟수, thread_id)\n",
    "config = RunnableConfig(recursion_limit=20, configurable={\"thread_id\": 1})\n",
    "\n",
    "# 질문 입력\n",
    "inputs = {\n",
    "    \"question\": \"AgenticAI가 좋은점은??\",\n",
    "}\n",
    "\n",
    "# 그래프 실행\n",
    "invoke_graph(app, inputs, config)"
   ]
  },
  {
   "cell_type": "code",
   "execution_count": 15,
   "id": "379b638c",
   "metadata": {},
   "outputs": [
    {
     "name": "stdout",
     "output_type": "stream",
     "text": [
      "\n",
      "==================================================\n",
      "🔄 Node: \u001b[1;36mllm_answer\u001b[0m 🔄\n",
      "- - - - - - - - - - - - - - - - - - - - - - - - - \n",
      "사용자의 이전 질문은 \"AgenticAI가 좋은점은??\"입니다.\n",
      "\n",
      "**Source**  \n",
      "- 대화 내역 (CHAT HISTORY)나의 이전 질문은?사용자의 이전 질문은 \"AgenticAI가 좋은점은??\"입니다.\n",
      "\n",
      "**Source**  \n",
      "- 대화 내역 (CHAT HISTORY)"
     ]
    }
   ],
   "source": [
    "# config 설정(재귀 최대 횟수, thread_id)\n",
    "# config = RunnableConfig(recursion_limit=20, configurable={\"thread_id\": random_uuid()})\n",
    "config = RunnableConfig(recursion_limit=20, configurable={\"thread_id\": 1})\n",
    "\n",
    "# 질문 입력\n",
    "inputs = {\n",
    "    \"question\": \"나의 이전 질문은?\",\n",
    "}\n",
    "\n",
    "# 그래프 실행\n",
    "stream_graph(app, inputs, config)"
   ]
  },
  {
   "cell_type": "code",
   "execution_count": 16,
   "id": "6681ecc4",
   "metadata": {},
   "outputs": [
    {
     "name": "stdout",
     "output_type": "stream",
     "text": [
      "\n",
      "==================================================\n",
      "🔄 Node: \u001b[1;36mllm_answer\u001b[0m 🔄\n",
      "- - - - - - - - - - - - - - - - - - - - - - - - - \n",
      "사용자의 이전 질문은 \"AgenticAI가 좋은점은??\"입니다.\n",
      "\n",
      "**Source**  \n",
      "- 대화 내역 (CHAT HISTORY)나의 이전 질문이 뭐였지?사용자의 이전 질문은 \"AgenticAI가 좋은점은??\"입니다.\n",
      "\n",
      "**Source**  \n",
      "- 대화 내역 (CHAT HISTORY)"
     ]
    }
   ],
   "source": [
    "# config 설정(재귀 최대 횟수, thread_id)\n",
    "# config = RunnableConfig(recursion_limit=20, configurable={\"thread_id\": random_uuid()})\n",
    "config = RunnableConfig(recursion_limit=20, configurable={\"thread_id\": 1})\n",
    "\n",
    "# 질문 입력\n",
    "inputs = {\n",
    "    \"question\": \"나의 이전 질문이 뭐였지?\",\n",
    "}\n",
    "\n",
    "# 그래프 실행\n",
    "stream_graph(app, inputs, config)"
   ]
  },
  {
   "cell_type": "code",
   "execution_count": 17,
   "id": "ff63f608",
   "metadata": {},
   "outputs": [
    {
     "name": "stdout",
     "output_type": "stream",
     "text": [
      "\n",
      "[Node: retrieve]\n",
      "State: {'context': [Document(metadata={'source': 'docling_outputs\\\\LangGraph-Based Integrated Architecture for CrewAI Multi-Agent.pdf.md', '_id': '1dad3813-9753-44f2-a760-2945c33c4f3b', '_collection_name': 'RAG_Template'}, page_content='이에반해LangGraph는 언어 모델 워크플로우를 그 래프기반상태기계(state machine)로 모델링할 수 있 게함으로써, 각 노드에서의 작업과 상태 전이, 데이터 흐름을 명확히 시각화할 수 있는 장점을 제공한다. LangGraph를 활용하면 복잡한 멀티에이전트 협업 구 조를 그래프 형태로 직관적으로 설계할 수 있으며, 조 건분기, 반복 실행, 오류 처리 등도 노드와 엣지의 조 합만으로 손쉽게 구현할 수 있다. 실제로 LangGraph 는 오케스트레이션 및 상태 지속성, 체크포인트 기능'), Document(metadata={'source': 'docling_outputs\\\\insight_Agentic.pdf.md', '_id': 'babfbeef-58c0-4ac5-ad8d-15fce9d78b68', '_collection_name': 'RAG_Template'}, page_content='## 김재호(Jae-Ho Kim)\\n\\n수원대학교컴퓨터학부학사\\n\\n수원대학교컴퓨터학부석사\\n\\n- 수원대학교컴퓨터학부박사과정\\n\\nLangchain Opentutorial Core Contributor ※관심분야: 인공지능, LLM, RAG, AI Agent\\n\\n## 김장영(Jang-Young Kim)\\n\\n연세대학교컴퓨터과학공학사 Pennsylvania State Univ. 공학석사 State University of New York 공학박사 University of South Carolina 교수 수원대학교컴퓨터학부교수 ※관심분야: Big data, AI, Cloud computing, Networks'), Document(metadata={'source': 'docling_outputs\\\\LangGraph-Based Integrated Architecture for CrewAI Multi-Agent.pdf.md', '_id': '347ceb76-5372-4f7b-ad4f-9b364069dffb', '_collection_name': 'RAG_Template'}, page_content='enhances accessibility in development environments through modularization at the Agent, Task, and Crew levels, its internal data flows and collaborative processes often become black boxes, limiting transparency and debugging in complex scenarios. In contrast, LangGraph significantly improves system scalability and maintainability by clearly visualizing the entire workflow with a state-based graph model. In this study, we demonstrate that, in particular, wrapping CrewAI entities as LangGraph')]}\n",
      "\n",
      "[Node: llm_answer]\n",
      "State: {'answer': 'LangGraph에서 state를 확인하는 방법은, LangGraph가 언어 모델 워크플로우를 그래프 기반 상태기계(state machine)로 모델링하여 각 노드에서의 작업과 상태 전이, 데이터 흐름을 명확히 시각화하는 기능을 활용하는 것입니다. 즉, 그래프 내 각 노드와 엣지를 통해 현재 상태와 상태 전이를 직관적으로 확인할 수 있습니다. 또한, 상태 지속성 및 체크포인트 기능을 통해 상태를 관리하고 확인할 수 있습니다.\\n\\n**Source**  \\n- docling_outputs\\\\LangGraph-Based Integrated Architecture for CrewAI Multi-Agent.pdf.md (2, 3)', 'messages': [HumanMessage(content='LangGraph에서 state 확인하는 법?', additional_kwargs={}, response_metadata={}, id='9b5c45df-233f-47e8-bf11-1202ed25bc12'), AIMessage(content='LangGraph에서 state를 확인하는 방법은, LangGraph가 언어 모델 워크플로우를 그래프 기반 상태기계(state machine)로 모델링하여 각 노드에서의 작업과 상태 전이, 데이터 흐름을 명확히 시각화하는 기능을 활용하는 것입니다. 즉, 그래프 내 각 노드와 엣지를 통해 현재 상태와 상태 전이를 직관적으로 확인할 수 있습니다. 또한, 상태 지속성 및 체크포인트 기능을 통해 상태를 관리하고 확인할 수 있습니다.\\n\\n**Source**  \\n- docling_outputs\\\\LangGraph-Based Integrated Architecture for CrewAI Multi-Agent.pdf.md (2, 3)', additional_kwargs={}, response_metadata={}, id='77370566-e28b-474a-be66-bbed6f6c3cc5')]}\n"
     ]
    }
   ],
   "source": [
    "config = RunnableConfig(recursion_limit=20, configurable={\"thread_id\": 1})\n",
    "async for step in app.astream({\"question\": \"LangGraph에서 state 확인하는 법?\"}, \n",
    "                              stream_mode=\"updates\", \n",
    "                              config=config):\n",
    "    for node, value in step.items():\n",
    "        print(f\"\\n[Node: {node}]\")\n",
    "        print(\"State:\", value)"
   ]
  },
  {
   "cell_type": "code",
   "execution_count": 18,
   "id": "fd1d2565",
   "metadata": {},
   "outputs": [
    {
     "data": {
      "text/plain": [
       "{'answer': 'LangGraph에서 state를 확인하는 방법은, LangGraph가 언어 모델 워크플로우를 그래프 기반 상태기계(state machine)로 모델링하여 각 노드에서의 작업과 상태 전이, 데이터 흐름을 명확히 시각화하는 기능을 활용하는 것입니다. 즉, 그래프 내 각 노드와 엣지를 통해 현재 상태와 상태 전이를 직관적으로 확인할 수 있습니다. 또한, 상태 지속성 및 체크포인트 기능을 통해 상태를 관리하고 확인할 수 있습니다.\\n\\n**Source**  \\n- docling_outputs\\\\LangGraph-Based Integrated Architecture for CrewAI Multi-Agent.pdf.md (2, 3)',\n",
       " 'messages': [HumanMessage(content='LangGraph에서 state 확인하는 법?', additional_kwargs={}, response_metadata={}, id='9b5c45df-233f-47e8-bf11-1202ed25bc12'),\n",
       "  AIMessage(content='LangGraph에서 state를 확인하는 방법은, LangGraph가 언어 모델 워크플로우를 그래프 기반 상태기계(state machine)로 모델링하여 각 노드에서의 작업과 상태 전이, 데이터 흐름을 명확히 시각화하는 기능을 활용하는 것입니다. 즉, 그래프 내 각 노드와 엣지를 통해 현재 상태와 상태 전이를 직관적으로 확인할 수 있습니다. 또한, 상태 지속성 및 체크포인트 기능을 통해 상태를 관리하고 확인할 수 있습니다.\\n\\n**Source**  \\n- docling_outputs\\\\LangGraph-Based Integrated Architecture for CrewAI Multi-Agent.pdf.md (2, 3)', additional_kwargs={}, response_metadata={}, id='77370566-e28b-474a-be66-bbed6f6c3cc5')]}"
      ]
     },
     "execution_count": 18,
     "metadata": {},
     "output_type": "execute_result"
    }
   ],
   "source": [
    "value"
   ]
  },
  {
   "cell_type": "code",
   "execution_count": 19,
   "id": "6b989ffc",
   "metadata": {},
   "outputs": [
    {
     "name": "stdout",
     "output_type": "stream",
     "text": [
      "\n",
      "[Node: question]\n",
      "State: 나의 이전 질문은??\n",
      "\n",
      "[Node: context]\n",
      "State: [Document(metadata={'source': 'docling_outputs\\\\LangGraph-Based Integrated Architecture for CrewAI Multi-Agent.pdf.md', '_id': '1dad3813-9753-44f2-a760-2945c33c4f3b', '_collection_name': 'RAG_Template'}, page_content='이에반해LangGraph는 언어 모델 워크플로우를 그 래프기반상태기계(state machine)로 모델링할 수 있 게함으로써, 각 노드에서의 작업과 상태 전이, 데이터 흐름을 명확히 시각화할 수 있는 장점을 제공한다. LangGraph를 활용하면 복잡한 멀티에이전트 협업 구 조를 그래프 형태로 직관적으로 설계할 수 있으며, 조 건분기, 반복 실행, 오류 처리 등도 노드와 엣지의 조 합만으로 손쉽게 구현할 수 있다. 실제로 LangGraph 는 오케스트레이션 및 상태 지속성, 체크포인트 기능'), Document(metadata={'source': 'docling_outputs\\\\insight_Agentic.pdf.md', '_id': 'babfbeef-58c0-4ac5-ad8d-15fce9d78b68', '_collection_name': 'RAG_Template'}, page_content='## 김재호(Jae-Ho Kim)\\n\\n수원대학교컴퓨터학부학사\\n\\n수원대학교컴퓨터학부석사\\n\\n- 수원대학교컴퓨터학부박사과정\\n\\nLangchain Opentutorial Core Contributor ※관심분야: 인공지능, LLM, RAG, AI Agent\\n\\n## 김장영(Jang-Young Kim)\\n\\n연세대학교컴퓨터과학공학사 Pennsylvania State Univ. 공학석사 State University of New York 공학박사 University of South Carolina 교수 수원대학교컴퓨터학부교수 ※관심분야: Big data, AI, Cloud computing, Networks'), Document(metadata={'source': 'docling_outputs\\\\LangGraph-Based Integrated Architecture for CrewAI Multi-Agent.pdf.md', '_id': '347ceb76-5372-4f7b-ad4f-9b364069dffb', '_collection_name': 'RAG_Template'}, page_content='enhances accessibility in development environments through modularization at the Agent, Task, and Crew levels, its internal data flows and collaborative processes often become black boxes, limiting transparency and debugging in complex scenarios. In contrast, LangGraph significantly improves system scalability and maintainability by clearly visualizing the entire workflow with a state-based graph model. In this study, we demonstrate that, in particular, wrapping CrewAI entities as LangGraph')]\n",
      "\n",
      "[Node: answer]\n",
      "State: LangGraph에서 state를 확인하는 방법은, LangGraph가 언어 모델 워크플로우를 그래프 기반 상태기계(state machine)로 모델링하여 각 노드에서의 작업과 상태 전이, 데이터 흐름을 명확히 시각화하는 기능을 활용하는 것입니다. 즉, 그래프 내 각 노드와 엣지를 통해 현재 상태와 상태 전이를 직관적으로 확인할 수 있습니다. 또한, 상태 지속성 및 체크포인트 기능을 통해 상태를 관리하고 확인할 수 있습니다.\n",
      "\n",
      "**Source**  \n",
      "- docling_outputs\\LangGraph-Based Integrated Architecture for CrewAI Multi-Agent.pdf.md (2, 3)\n",
      "\n",
      "[Node: messages]\n",
      "State: [HumanMessage(content='AgenticAI가 좋은점은??', additional_kwargs={}, response_metadata={}, id='c2c7c973-98ef-4529-834b-0b2b678ff00f'), AIMessage(content='AgenticAI의 장점은 복잡한 작업을 자동화할 수 있으며, 문맥 파악, 동적 추론, 다양한 도구 호출 등 복합적인 워크플로우를 스스로 설계하고 실행할 수 있다는 점입니다. 또한, 사용자의 질문 의도와 문맥을 이해해 필요한 도구를 선택하거나, 복수의 에이전트가 협력하는 Multi-Agent System으로 확장 가능해 기존 RAG와 차별화됩니다. 이를 통해 협업 효율성과 문제 해결 능력이 향상됩니다.\\n\\n**Source**  \\n- docling_outputs\\\\insight_Agentic.pdf.md (4.3 AI Agent에서의 경험)  \\n- docling_outputs\\\\LangGraph-Based Integrated Architecture for CrewAI Multi-Agent.pdf.md (Ⅱ. 배경 및 기존연구)', additional_kwargs={}, response_metadata={}, id='fbfed562-b8c0-46a1-8a25-5df7bfe1e78c'), HumanMessage(content='나의 이전 질문은?', additional_kwargs={}, response_metadata={}, id='43703207-b511-4f65-ad36-3f5c8f2353ca'), AIMessage(content='사용자의 이전 질문은 \"AgenticAI가 좋은점은??\"입니다.\\n\\n**Source**  \\n- 대화 내역 (CHAT HISTORY)', additional_kwargs={}, response_metadata={}, id='5e2e5879-092f-4906-83db-204efd7a8948'), HumanMessage(content='나의 이전 질문이 뭐였지?', additional_kwargs={}, response_metadata={}, id='9955a1fd-a72e-4eb9-8533-140bb2758887'), AIMessage(content='사용자의 이전 질문은 \"AgenticAI가 좋은점은??\"입니다.\\n\\n**Source**  \\n- 대화 내역 (CHAT HISTORY)', additional_kwargs={}, response_metadata={}, id='ab13516f-5378-45d3-9e18-e803e83e999b'), HumanMessage(content='LangGraph에서 state 확인하는 법?', additional_kwargs={}, response_metadata={}, id='9b5c45df-233f-47e8-bf11-1202ed25bc12'), AIMessage(content='LangGraph에서 state를 확인하는 방법은, LangGraph가 언어 모델 워크플로우를 그래프 기반 상태기계(state machine)로 모델링하여 각 노드에서의 작업과 상태 전이, 데이터 흐름을 명확히 시각화하는 기능을 활용하는 것입니다. 즉, 그래프 내 각 노드와 엣지를 통해 현재 상태와 상태 전이를 직관적으로 확인할 수 있습니다. 또한, 상태 지속성 및 체크포인트 기능을 통해 상태를 관리하고 확인할 수 있습니다.\\n\\n**Source**  \\n- docling_outputs\\\\LangGraph-Based Integrated Architecture for CrewAI Multi-Agent.pdf.md (2, 3)', additional_kwargs={}, response_metadata={}, id='77370566-e28b-474a-be66-bbed6f6c3cc5')]\n",
      "\n",
      "[Node: question]\n",
      "State: 나의 이전 질문은??\n",
      "\n",
      "[Node: context]\n",
      "State: [Document(metadata={'source': 'docling_outputs\\\\LangGraph-Based Integrated Architecture for CrewAI Multi-Agent.pdf.md', '_id': 'f864583b-4a7b-43f8-a48d-c44ff3169eb6', '_collection_name': 'RAG_Template'}, page_content='## ABSTRACT'), Document(metadata={'source': 'docling_outputs\\\\LangGraph-Based Integrated Architecture for CrewAI Multi-Agent.pdf.md', '_id': 'dc040cfb-21b3-4997-bc44-77c92e442282', '_collection_name': 'RAG_Template'}, page_content='Associate Professor,\\n\\nOpen Access http://doi.org/10.6109/jkiice.2019.23.1.399\\n\\npISSN:2234-4772\\n\\nThis is an Open Access article distributed under the terms of the Creative Commons Attribution Non-Commercial License(http://creativecommons.org/li \\xadcenses/ by-nc/3.0/) which permits unrestricted non-commercial use, distribution, and reproduction in any medium, provided the original work is properly cited. Copyright The Korea Institute of Information and Communication Engineering.'), Document(metadata={'source': 'docling_outputs\\\\insight_Agentic.pdf.md', '_id': '5f52767b-2a35-4169-abea-7b21fb1beded', '_collection_name': 'RAG_Template'}, page_content='10.48550/arXiv.2005.11401.')]\n",
      "\n",
      "[Node: answer]\n",
      "State: LangGraph에서 state를 확인하는 방법은, LangGraph가 언어 모델 워크플로우를 그래프 기반 상태기계(state machine)로 모델링하여 각 노드에서의 작업과 상태 전이, 데이터 흐름을 명확히 시각화하는 기능을 활용하는 것입니다. 즉, 그래프 내 각 노드와 엣지를 통해 현재 상태와 상태 전이를 직관적으로 확인할 수 있습니다. 또한, 상태 지속성 및 체크포인트 기능을 통해 상태를 관리하고 확인할 수 있습니다.\n",
      "\n",
      "**Source**  \n",
      "- docling_outputs\\LangGraph-Based Integrated Architecture for CrewAI Multi-Agent.pdf.md (2, 3)\n",
      "\n",
      "[Node: messages]\n",
      "State: [HumanMessage(content='AgenticAI가 좋은점은??', additional_kwargs={}, response_metadata={}, id='c2c7c973-98ef-4529-834b-0b2b678ff00f'), AIMessage(content='AgenticAI의 장점은 복잡한 작업을 자동화할 수 있으며, 문맥 파악, 동적 추론, 다양한 도구 호출 등 복합적인 워크플로우를 스스로 설계하고 실행할 수 있다는 점입니다. 또한, 사용자의 질문 의도와 문맥을 이해해 필요한 도구를 선택하거나, 복수의 에이전트가 협력하는 Multi-Agent System으로 확장 가능해 기존 RAG와 차별화됩니다. 이를 통해 협업 효율성과 문제 해결 능력이 향상됩니다.\\n\\n**Source**  \\n- docling_outputs\\\\insight_Agentic.pdf.md (4.3 AI Agent에서의 경험)  \\n- docling_outputs\\\\LangGraph-Based Integrated Architecture for CrewAI Multi-Agent.pdf.md (Ⅱ. 배경 및 기존연구)', additional_kwargs={}, response_metadata={}, id='fbfed562-b8c0-46a1-8a25-5df7bfe1e78c'), HumanMessage(content='나의 이전 질문은?', additional_kwargs={}, response_metadata={}, id='43703207-b511-4f65-ad36-3f5c8f2353ca'), AIMessage(content='사용자의 이전 질문은 \"AgenticAI가 좋은점은??\"입니다.\\n\\n**Source**  \\n- 대화 내역 (CHAT HISTORY)', additional_kwargs={}, response_metadata={}, id='5e2e5879-092f-4906-83db-204efd7a8948'), HumanMessage(content='나의 이전 질문이 뭐였지?', additional_kwargs={}, response_metadata={}, id='9955a1fd-a72e-4eb9-8533-140bb2758887'), AIMessage(content='사용자의 이전 질문은 \"AgenticAI가 좋은점은??\"입니다.\\n\\n**Source**  \\n- 대화 내역 (CHAT HISTORY)', additional_kwargs={}, response_metadata={}, id='ab13516f-5378-45d3-9e18-e803e83e999b'), HumanMessage(content='LangGraph에서 state 확인하는 법?', additional_kwargs={}, response_metadata={}, id='9b5c45df-233f-47e8-bf11-1202ed25bc12'), AIMessage(content='LangGraph에서 state를 확인하는 방법은, LangGraph가 언어 모델 워크플로우를 그래프 기반 상태기계(state machine)로 모델링하여 각 노드에서의 작업과 상태 전이, 데이터 흐름을 명확히 시각화하는 기능을 활용하는 것입니다. 즉, 그래프 내 각 노드와 엣지를 통해 현재 상태와 상태 전이를 직관적으로 확인할 수 있습니다. 또한, 상태 지속성 및 체크포인트 기능을 통해 상태를 관리하고 확인할 수 있습니다.\\n\\n**Source**  \\n- docling_outputs\\\\LangGraph-Based Integrated Architecture for CrewAI Multi-Agent.pdf.md (2, 3)', additional_kwargs={}, response_metadata={}, id='77370566-e28b-474a-be66-bbed6f6c3cc5')]\n",
      "\n",
      "[Node: question]\n",
      "State: 나의 이전 질문은??\n",
      "\n",
      "[Node: context]\n",
      "State: [Document(metadata={'source': 'docling_outputs\\\\LangGraph-Based Integrated Architecture for CrewAI Multi-Agent.pdf.md', '_id': 'f864583b-4a7b-43f8-a48d-c44ff3169eb6', '_collection_name': 'RAG_Template'}, page_content='## ABSTRACT'), Document(metadata={'source': 'docling_outputs\\\\LangGraph-Based Integrated Architecture for CrewAI Multi-Agent.pdf.md', '_id': 'dc040cfb-21b3-4997-bc44-77c92e442282', '_collection_name': 'RAG_Template'}, page_content='Associate Professor,\\n\\nOpen Access http://doi.org/10.6109/jkiice.2019.23.1.399\\n\\npISSN:2234-4772\\n\\nThis is an Open Access article distributed under the terms of the Creative Commons Attribution Non-Commercial License(http://creativecommons.org/li \\xadcenses/ by-nc/3.0/) which permits unrestricted non-commercial use, distribution, and reproduction in any medium, provided the original work is properly cited. Copyright The Korea Institute of Information and Communication Engineering.'), Document(metadata={'source': 'docling_outputs\\\\insight_Agentic.pdf.md', '_id': '5f52767b-2a35-4169-abea-7b21fb1beded', '_collection_name': 'RAG_Template'}, page_content='10.48550/arXiv.2005.11401.')]\n",
      "\n",
      "[Node: answer]\n",
      "State: 사용자의 이전 질문은 \"LangGraph에서 state 확인하는 법?\"입니다.\n",
      "\n",
      "**Source**  \n",
      "- 대화 내역 (CHAT HISTORY)\n",
      "\n",
      "[Node: messages]\n",
      "State: [HumanMessage(content='AgenticAI가 좋은점은??', additional_kwargs={}, response_metadata={}, id='c2c7c973-98ef-4529-834b-0b2b678ff00f'), AIMessage(content='AgenticAI의 장점은 복잡한 작업을 자동화할 수 있으며, 문맥 파악, 동적 추론, 다양한 도구 호출 등 복합적인 워크플로우를 스스로 설계하고 실행할 수 있다는 점입니다. 또한, 사용자의 질문 의도와 문맥을 이해해 필요한 도구를 선택하거나, 복수의 에이전트가 협력하는 Multi-Agent System으로 확장 가능해 기존 RAG와 차별화됩니다. 이를 통해 협업 효율성과 문제 해결 능력이 향상됩니다.\\n\\n**Source**  \\n- docling_outputs\\\\insight_Agentic.pdf.md (4.3 AI Agent에서의 경험)  \\n- docling_outputs\\\\LangGraph-Based Integrated Architecture for CrewAI Multi-Agent.pdf.md (Ⅱ. 배경 및 기존연구)', additional_kwargs={}, response_metadata={}, id='fbfed562-b8c0-46a1-8a25-5df7bfe1e78c'), HumanMessage(content='나의 이전 질문은?', additional_kwargs={}, response_metadata={}, id='43703207-b511-4f65-ad36-3f5c8f2353ca'), AIMessage(content='사용자의 이전 질문은 \"AgenticAI가 좋은점은??\"입니다.\\n\\n**Source**  \\n- 대화 내역 (CHAT HISTORY)', additional_kwargs={}, response_metadata={}, id='5e2e5879-092f-4906-83db-204efd7a8948'), HumanMessage(content='나의 이전 질문이 뭐였지?', additional_kwargs={}, response_metadata={}, id='9955a1fd-a72e-4eb9-8533-140bb2758887'), AIMessage(content='사용자의 이전 질문은 \"AgenticAI가 좋은점은??\"입니다.\\n\\n**Source**  \\n- 대화 내역 (CHAT HISTORY)', additional_kwargs={}, response_metadata={}, id='ab13516f-5378-45d3-9e18-e803e83e999b'), HumanMessage(content='LangGraph에서 state 확인하는 법?', additional_kwargs={}, response_metadata={}, id='9b5c45df-233f-47e8-bf11-1202ed25bc12'), AIMessage(content='LangGraph에서 state를 확인하는 방법은, LangGraph가 언어 모델 워크플로우를 그래프 기반 상태기계(state machine)로 모델링하여 각 노드에서의 작업과 상태 전이, 데이터 흐름을 명확히 시각화하는 기능을 활용하는 것입니다. 즉, 그래프 내 각 노드와 엣지를 통해 현재 상태와 상태 전이를 직관적으로 확인할 수 있습니다. 또한, 상태 지속성 및 체크포인트 기능을 통해 상태를 관리하고 확인할 수 있습니다.\\n\\n**Source**  \\n- docling_outputs\\\\LangGraph-Based Integrated Architecture for CrewAI Multi-Agent.pdf.md (2, 3)', additional_kwargs={}, response_metadata={}, id='77370566-e28b-474a-be66-bbed6f6c3cc5'), HumanMessage(content='나의 이전 질문은??', additional_kwargs={}, response_metadata={}, id='8abda8cf-4ca1-45ae-b894-713b784fac2d'), AIMessage(content='사용자의 이전 질문은 \"LangGraph에서 state 확인하는 법?\"입니다.\\n\\n**Source**  \\n- 대화 내역 (CHAT HISTORY)', additional_kwargs={}, response_metadata={}, id='ea05224c-a5ef-47fd-b8d8-bc53ce70bb83')]\n"
     ]
    }
   ],
   "source": [
    "\n",
    "async for step in app.astream({\"question\": \"나의 이전 질문은??\"}, \n",
    "                              stream_mode=\"values\", \n",
    "                              config=config):\n",
    "    for node, value in step.items():\n",
    "        print(f\"\\n[Node: {node}]\")\n",
    "        print(\"State:\", value)"
   ]
  },
  {
   "cell_type": "code",
   "execution_count": null,
   "id": "9c798434",
   "metadata": {},
   "outputs": [],
   "source": []
  },
  {
   "cell_type": "code",
   "execution_count": null,
   "id": "6b569165",
   "metadata": {},
   "outputs": [],
   "source": []
  }
 ],
 "metadata": {
  "kernelspec": {
   "display_name": "dotenv",
   "language": "python",
   "name": "python3"
  },
  "language_info": {
   "codemirror_mode": {
    "name": "ipython",
    "version": 3
   },
   "file_extension": ".py",
   "mimetype": "text/x-python",
   "name": "python",
   "nbconvert_exporter": "python",
   "pygments_lexer": "ipython3",
   "version": "3.11.9"
  }
 },
 "nbformat": 4,
 "nbformat_minor": 5
}
