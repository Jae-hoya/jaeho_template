{
 "cells": [
  {
   "cell_type": "code",
   "execution_count": 1,
   "id": "aa4dbe2f",
   "metadata": {},
   "outputs": [
    {
     "data": {
      "text/plain": [
       "True"
      ]
     },
     "execution_count": 1,
     "metadata": {},
     "output_type": "execute_result"
    }
   ],
   "source": [
    "from dotenv import load_dotenv\n",
    "load_dotenv()"
   ]
  },
  {
   "cell_type": "code",
   "execution_count": 2,
   "id": "e4710014",
   "metadata": {},
   "outputs": [],
   "source": [
    "# node에서 받지 않은것들: retriever, rag_chain, llm(general_answer_node)\n",
    "\n",
    "from RAG.retriever import QdrantRetrieverFactory\n",
    "from RAG.rag import chat_history_rag\n",
    "from nodes import *\n",
    "from states import GraphState\n",
    "\n",
    "qs = QdrantRetrieverFactory()\n",
    "\n",
    "retriever = qs.retriever(collection_name=\"RAG_Template\", fetch_k=3)\n",
    "compression_retriever = qs.compression_retriever(collection_name=\"RAG_Template\", fetch_k=20, top_n=3)\n",
    "\n",
    "rerank_chain = chat_history_rag(compression_retriever)\n",
    "chain = chat_history_rag(retriever)"
   ]
  },
  {
   "cell_type": "code",
   "execution_count": 3,
   "id": "f6866dea",
   "metadata": {},
   "outputs": [
    {
     "name": "stdout",
     "output_type": "stream",
     "text": [
      "RAG Insight highlights that the performance and effectiveness of RAG and Agentic RAG systems depend on factors such as LLM model selection, text segmentation techniques, embedding strategies, and clear workflow state management with branching conditions. Future research directions emphasize enhancing automatic error detection and recovery, optimizing domain-specific workflows, quantitatively evaluating various LLM and embedding models, and dynamically improving workflows based on real-time user feedback. These improvements are expected to increase the stability, efficiency, and practical applicability of RAG systems. Additionally, with rapid advances in MCP and AI Agent technologies, RAG is anticipated to play a more strategic and core role in LLM-based AI systems beyond traditional fine-tuning approaches.\n",
      "\n",
      "**Source**  \n",
      "- docling_outputs\\insight_Agentic.pdf.md\n"
     ]
    }
   ],
   "source": [
    "response = chain.invoke({\"question\": \"RAG Insight\", \"chat_history\": \"[]\"},)\n",
    "print(response)"
   ]
  },
  {
   "cell_type": "code",
   "execution_count": 4,
   "id": "9ce13966",
   "metadata": {},
   "outputs": [],
   "source": [
    "# response = rerank_chain.invoke({\"question\": \"RAG Insight\"})\n",
    "# print(response)"
   ]
  },
  {
   "cell_type": "code",
   "execution_count": 5,
   "id": "27d391a6",
   "metadata": {},
   "outputs": [],
   "source": [
    "from langgraph.graph import StateGraph, START, END\n",
    "from langgraph.checkpoint.memory import MemorySaver\n",
    "\n",
    "workflow = StateGraph(GraphState)\n",
    "\n",
    "workflow.add_node(\"retrieve\", RetrieveNode(retriever))\n",
    "workflow.add_node(\"llm_answer\", LLMAnswerNode(chain))\n",
    "\n",
    "workflow.add_edge(START, \"retrieve\")\n",
    "workflow.add_edge(\"retrieve\", \"llm_answer\")\n",
    "workflow.add_edge(\"llm_answer\", END)\n",
    "\n",
    "memory = MemorySaver()\n",
    "\n",
    "app = workflow.compile(checkpointer=memory)"
   ]
  },
  {
   "cell_type": "code",
   "execution_count": 6,
   "id": "92c83880",
   "metadata": {},
   "outputs": [
    {
     "data": {
      "image/png": "[encoded data removed]",
      "text/plain": [
       "<langgraph.graph.state.CompiledStateGraph object at 0x000001D9DEAEDF50>"
      ]
     },
     "execution_count": 6,
     "metadata": {},
     "output_type": "execute_result"
    }
   ],
   "source": [
    "app"
   ]
  },
  {
   "cell_type": "code",
   "execution_count": 7,
   "id": "4a79fc71",
   "metadata": {},
   "outputs": [],
   "source": [
    "from langchain_core.runnables import RunnableConfig\n",
    "from langchain_teddynote.messages import invoke_graph, stream_graph, random_uuid\n",
    "\n",
    "\n",
    "def ask(question):\n",
    "    # config 설정(재귀 최대 횟수, thread_id)\n",
    "    config = RunnableConfig(\n",
    "        recursion_limit=20, configurable={\"thread_id\": random_uuid()}\n",
    "    )\n",
    "\n",
    "    # 질문 입력\n",
    "    inputs = {\n",
    "        \"question\": question,\n",
    "    }\n",
    "\n",
    "    # 스트리밍 형식으로 그래프 실행\n",
    "    stream_graph(\n",
    "        app,\n",
    "        inputs,\n",
    "        config,\n",
    "        \n",
    "    )"
   ]
  },
  {
   "cell_type": "code",
   "execution_count": 8,
   "id": "5e8197b1",
   "metadata": {},
   "outputs": [
    {
     "name": "stdout",
     "output_type": "stream",
     "text": [
      "\n",
      "==================================================\n",
      "🔄 Node: \u001b[1;36mllm_answer\u001b[0m 🔄\n",
      "- - - - - - - - - - - - - - - - - - - - - - - - - \n",
      "대한민국의 수도는 서울입니다."
     ]
    }
   ],
   "source": [
    "ask(\"대한민국의 수도는?\")"
   ]
  },
  {
   "cell_type": "code",
   "execution_count": 9,
   "id": "d919127b",
   "metadata": {},
   "outputs": [
    {
     "name": "stdout",
     "output_type": "stream",
     "text": [
      "\n",
      "==================================================\n",
      "🔄 Node: \u001b[1;36mllm_answer\u001b[0m 🔄\n",
      "- - - - - - - - - - - - - - - - - - - - - - - - - \n",
      "RAG Insight highlights the strategic and core role of Retrieval-Augmented Generation (RAG) in future LLM-based AI systems, emphasizing that traditional fine-tuning approaches have limitations. Key factors determining RAG and Agentic RAG system performance include LLM model selection, text segmentation methods, embedding strategies, and clear workflow state management with branching conditions. Future research directions focus on enhancing automatic error detection and recovery, optimizing domain-specific workflows, quantitatively evaluating various LLM and embedding models, and dynamically improving workflows based on real-time user feedback. These advancements are expected to improve the stability, efficiency, and practical applicability of RAG and Agentic RAG systems.\n",
      "\n",
      "**Source**  \n",
      "- docling_outputs\\insight_Agentic.pdf.md (pages 1-3)"
     ]
    }
   ],
   "source": [
    "ask(\"RAG Insight\")"
   ]
  },
  {
   "cell_type": "code",
   "execution_count": 10,
   "id": "c653476c",
   "metadata": {},
   "outputs": [
    {
     "name": "stdout",
     "output_type": "stream",
     "text": [
      "\n",
      "==================================================\n",
      "🔄 Node: \u001b[1;36mllm_answer\u001b[0m 🔄\n",
      "- - - - - - - - - - - - - - - - - - - - - - - - - \n",
      "이전 질문이 없습니다."
     ]
    }
   ],
   "source": [
    "ask(\"내이전 질문이 뭐였지?\")\n"
   ]
  },
  {
   "cell_type": "code",
   "execution_count": 11,
   "id": "93eba6e3",
   "metadata": {},
   "outputs": [],
   "source": [
    "from langchain_core.runnables import RunnableConfig\n",
    "from langchain_teddynote.messages import invoke_graph, stream_graph, random_uuid\n",
    "\n",
    "\n",
    "def invoke_ask(question):\n",
    "    # config 설정(재귀 최대 횟수, thread_id)\n",
    "    config = RunnableConfig(\n",
    "        recursion_limit=20, configurable={\"thread_id\": random_uuid()}\n",
    "    )\n",
    "\n",
    "    # 질문 입력\n",
    "    inputs = {\n",
    "        \"question\": question,\n",
    "    }\n",
    "\n",
    "    # 스트리밍 형식으로 그래프 실행\n",
    "    invoke_graph(\n",
    "        app,\n",
    "        inputs,\n",
    "        config,\n",
    "    )"
   ]
  },
  {
   "cell_type": "code",
   "execution_count": 12,
   "id": "e9fa8317",
   "metadata": {},
   "outputs": [
    {
     "name": "stdout",
     "output_type": "stream",
     "text": [
      "\n",
      "==================================================\n",
      "🔄 Node: \u001b[1;36mretrieve\u001b[0m 🔄\n",
      "- - - - - - - - - - - - - - - - - - - - - - - - - \n",
      "page_content='둘째, Tool 호출 및 통합은 description 기반 프롬 프트와 일관된 인터페이스를 활용하여, 다양한 도구 를 자연스럽게 조합할 수 있고, 새로운 도구의 추가· 교체, 도메인 확장도 높은 유연성으로 지원한다.\n",
      "\n",
      "셋째, LangGraph의 상태 기반 제어는 각 노드 실 행 결과에 따른 동적 흐름 전환과 예외 상황 대응, 시스템 신뢰성 향상에 크게 기여한다. 평가 노드를 독립적으로 추가하여, BLEU, ROUGE, factual consistency 등 자동화된 품질 메트릭과 human in the loop 평가도 효과적으로 연계할 수 있다[10]. 이 러한 평가지표와 평가 방식은, 본 논문의 실험뿐만 아니라 최근 RAG 및 NLP 분야에서 성능 비교와 품 질 검증의 객관적·표준적 기준으로 널리 채택되고 있다.\n",
      "\n",
      "## Ⅵ. 실험 및 평가' metadata={'source': 'docling_outputs\\\\LangGraph-Based Integrated Architecture for CrewAI Multi-Agent.pdf.md', '_id': 'ae835789-ba60-47d0-909a-363e08aa7c3d', '_collection_name': 'RAG_Template'}\n",
      "page_content='여기서, create react agent를 LangGraph의 노드 로 만들어서 실행하였을때, tool에서 틀렸던 코드를 수정하여 실행시켜 줬던점이다. 일반 llm을 명시하는 코드에서 moㅇel로 오타를 냈는데, 알아서 model로 바꿔서 코드를 실행시켜주는 경험이 있었다. agent 로 만들어 주는 순간, LLM이 작성한 코드에도 관여 를 한다는 것이 발견하였고, 이것은 앞으로 강력한 무기가 될것으로 예상된다.\n",
      "\n",
      "## Ⅳ . LangGraph 기반 RAG 구조 설계\n",
      "\n",
      "LangGraph를 활용한 RAG 시스템에서는 route trigger, query expansion, query rewrite, 바리게이트 노드 등 다양한 워크플로우 모듈이 적극적으로 사용' metadata={'source': 'docling_outputs\\\\insight_Agentic.pdf.md', '_id': '8c571ba3-9c02-4ee3-b678-81a23c08a26c', '_collection_name': 'RAG_Template'}\n",
      "page_content='였다. 데이터 흐름의 시각화, 조건 분기 및 반복, Tool 통합, 평가 노드 삽입, Human-in-the-loop 감 독 구조 등 통합 아키텍처만의 강점은 프로덕션 환 경에서의 실질적 효율성과 성능 향상으로 이어졌다. 그러나 LangGraph와 CrewAI 통합에는 상태 관리 불일치, 데이터 공유 방식 차이, 통신 패턴 조정 등 에서 구현상의 복잡성이 뒤따르며, 두 프레임워크 모두에 대한 깊은 이해가 필요하다. 이러한 점은 단 일 프레임워크 대비 높은 학습 곡선과 설계 비용을 유발할 수 있다. 향후 연구에서는 상태 동기화 인터 페이스, 도메인 특화 멀티에이전트 템플릿 개발, 실 시간 피드백 기반 튜닝, 평가 워크플로우 자동화 도 구 개발 등이 주요 과제로 남아 있다. CrewAI+LangGraph 기반 통합 구조는 단순 도구 결 합을 넘어, 모듈성, 제어력, 협업성을 동시에 확보할 수 있는 새로운 기준점이 될 것이며, LLM 기반 AI 오케스트레이션 분야의 실질적 전환점을' metadata={'source': 'docling_outputs\\\\LangGraph-Based Integrated Architecture for CrewAI Multi-Agent.pdf.md', '_id': 'd9dbb025-c2b6-4813-a5d9-dac95d1d0f0d', '_collection_name': 'RAG_Template'}\n",
      "==================================================\n",
      "\n",
      "==================================================\n",
      "🔄 Node: \u001b[1;36mllm_answer\u001b[0m 🔄\n",
      "- - - - - - - - - - - - - - - - - - - - - - - - - \n",
      "\u001b[1;32manswer\u001b[0m:\n",
      "Self-RAG에서 사용되는 관련성 평가 노드 예제로는 LangGraph 내에 독립적으로 추가 가능한 평가 노드가 있다. 이 노드는 BLEU, ROUGE, factual consistency 같은 자동화된 품질 메트릭을 활용하며, human in the loop 평가와도 연계 가능하다. 이를 통해 RAG 및 NLP 분야에서 성능 비교와 품질 검증의 객관적·표준적 기준으로 활용된다.\n",
      "\n",
      "**Source**  \n",
      "- docling_outputs\\LangGraph-Based Integrated Architecture for CrewAI Multi-Agent.pdf.md (p. 관련성 평가 노드 설명 부분)\n",
      "('user', 'Self-RAG 에서 사용되는 관련성 평가 노드 예제를 찾아줘')\n",
      "('assistant', 'Self-RAG에서 사용되는 관련성 평가 노드 예제로는 LangGraph 내에 독립적으로 추가 가능한 평가 노드가 있다. 이 노드는 BLEU, ROUGE, factual consistency 같은 자동화된 품질 메트릭을 활용하며, human in the loop 평가와도 연계 가능하다. 이를 통해 RAG 및 NLP 분야에서 성능 비교와 품질 검증의 객관적·표준적 기준으로 활용된다.\\n\\n**Source**  \\n- docling_outputs\\\\LangGraph-Based Integrated Architecture for CrewAI Multi-Agent.pdf.md (p. 관련성 평가 노드 설명 부분)')\n",
      "==================================================\n"
     ]
    }
   ],
   "source": [
    "invoke_ask(\"Self-RAG 에서 사용되는 관련성 평가 노드 예제를 찾아줘\")"
   ]
  },
  {
   "cell_type": "code",
   "execution_count": null,
   "id": "c592f689",
   "metadata": {},
   "outputs": [],
   "source": []
  }
 ],
 "metadata": {
  "kernelspec": {
   "display_name": "dotenv",
   "language": "python",
   "name": "python3"
  },
  "language_info": {
   "codemirror_mode": {
    "name": "ipython",
    "version": 3
   },
   "file_extension": ".py",
   "mimetype": "text/x-python",
   "name": "python",
   "nbconvert_exporter": "python",
   "pygments_lexer": "ipython3",
   "version": "3.11.9"
  }
 },
 "nbformat": 4,
 "nbformat_minor": 5
}
