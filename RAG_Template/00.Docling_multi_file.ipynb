{
 "cells": [
  {
   "cell_type": "code",
   "execution_count": null,
   "id": "f40a78fe",
   "metadata": {},
   "outputs": [],
   "source": [
    "# pip install langchain\n",
    "# pip install docling\n",
    "# pip install langchain_docling"
   ]
  },
  {
   "cell_type": "code",
   "execution_count": 3,
   "id": "3125f66e",
   "metadata": {},
   "outputs": [
    {
     "name": "stdout",
     "output_type": "stream",
     "text": [
      "Converting: SPRi AI Brief 7월호 산업동향.pdf\n",
      "✅ Saved: C:/Users/skyop/jaeho_template/RAG_strategies/docling_outputs\\SPRi AI Brief 7월호 산업동향.md\n",
      "Converting: SPRi AI Brief_8월호_산업동향_F.pdf\n",
      "✅ Saved: C:/Users/skyop/jaeho_template/RAG_strategies/docling_outputs\\SPRi AI Brief_8월호_산업동향_F.md\n"
     ]
    }
   ],
   "source": [
    "import os\n",
    "from docling.document_converter import DocumentConverter\n",
    "\n",
    "FILE_PATH = \"C:/Users/skyop/jaeho_template/RAG_strategies/data\"\n",
    "SAVE_DIR = \"C:/Users/skyop/jaeho_template/RAG_strategies/docling_outputs\"\n",
    "\n",
    "os.makedirs(SAVE_DIR, exist_ok=True)  # 저장 폴더 없으면 생성\n",
    "converter = DocumentConverter()\n",
    "\n",
    "for filename in os.listdir(FILE_PATH):\n",
    "    if filename.endswith(\".pdf\"):\n",
    "        source = os.path.join(FILE_PATH, filename)\n",
    "        try:\n",
    "            print(f\"Converting: {filename}\")\n",
    "            result = converter.convert(source)\n",
    "\n",
    "            # 확장자 없는 파일명\n",
    "            base_name = os.path.splitext(filename)[0]\n",
    "\n",
    "            # 저장 경로\n",
    "            save_path = os.path.join(SAVE_DIR, f\"{base_name}.md\")\n",
    "\n",
    "            # 마크다운으로 내보내기\n",
    "            with open(save_path, \"w\", encoding=\"utf-8\") as f:\n",
    "                f.write(result.document.export_to_markdown())\n",
    "\n",
    "            print(f\"✅ Saved: {save_path}\")\n",
    "\n",
    "        except Exception as e:\n",
    "            print(f\"Error converting {filename}: {e}\")\n"
   ]
  },
  {
   "cell_type": "code",
   "execution_count": null,
   "id": "728923df",
   "metadata": {},
   "outputs": [],
   "source": [
    "from IPython.display import Markdown\n",
    "\n",
    "# 마크다운 형식으로 문서를 내보내기\n",
    "# export_to_markdown() 메서드는 문서를 마크다운 형식으로 변환하여 반환합니다.\n",
    "display(Markdown(result.document.export_to_markdown()))"
   ]
  }
 ],
 "metadata": {
  "kernelspec": {
   "display_name": "venv_docling",
   "language": "python",
   "name": "python3"
  },
  "language_info": {
   "codemirror_mode": {
    "name": "ipython",
    "version": 3
   },
   "file_extension": ".py",
   "mimetype": "text/x-python",
   "name": "python",
   "nbconvert_exporter": "python",
   "pygments_lexer": "ipython3",
   "version": "3.11.9"
  }
 },
 "nbformat": 4,
 "nbformat_minor": 5
}
