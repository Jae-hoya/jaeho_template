{
 "cells": [
  {
   "cell_type": "markdown",
   "id": "c633161c",
   "metadata": {},
   "source": [
    "# Agentic RAG 시스템 - 모듈화된 버전\n",
    "\n",
    "이 노트북은 분리된 모듈들(`states.py`, `tools.py`, `agents.py`, `nodes.py`, `graph.py`)을 사용하여 Agentic RAG 시스템을 실행합니다.\n",
    "\n",
    "## 모듈 구조\n",
    "- **`states.py`**: 상태 정의 (AgentState, RouteResponse)\n",
    "- **`tools.py`**: 도구 생성 함수들\n",
    "- **`agents.py`**: 에이전트 생성 함수들  \n",
    "- **`nodes.py`**: 노드 실행 함수들\n",
    "- **`graph.py`**: 그래프 생성 및 워크플로우 (Supervisor 포함)\n"
   ]
  },
  {
   "cell_type": "code",
   "execution_count": 12,
   "id": "c59ae7e1",
   "metadata": {},
   "outputs": [
    {
     "name": "stdout",
     "output_type": "stream",
     "text": [
      "✅ 환경 변수 로드 완료\n"
     ]
    }
   ],
   "source": [
    "# 환경 설정 및 의존성 로드\n",
    "from dotenv import load_dotenv\n",
    "load_dotenv()\n",
    "\n",
    "print(\"✅ 환경 변수 로드 완료\")\n"
   ]
  },
  {
   "cell_type": "code",
   "execution_count": 13,
   "id": "816f8c7b",
   "metadata": {},
   "outputs": [
    {
     "name": "stdout",
     "output_type": "stream",
     "text": [
      "✅ Retriever 설정 완료\n",
      "📚 컬렉션: RAG_Example(RAG_strategies)\n",
      "🔍 검색 문서 수: 3개\n"
     ]
    }
   ],
   "source": [
    "# Retriever 설정\n",
    "from retriever import QdrantRetrieverFactory\n",
    "\n",
    "# QdrantRetrieverFactory 인스턴스 생성\n",
    "qs = QdrantRetrieverFactory()\n",
    "\n",
    "# Retriever 생성 (SPRI AI Brief 컬렉션 사용)\n",
    "retriever = qs.retriever(\n",
    "    collection_name=\"RAG_Example(RAG_strategies)\", \n",
    "    fetch_k=3\n",
    ")\n",
    "\n",
    "print(\"✅ Retriever 설정 완료\")\n",
    "print(f\"📚 컬렉션: RAG_Example(RAG_strategies)\")\n",
    "print(f\"🔍 검색 문서 수: 3개\")\n"
   ]
  },
  {
   "cell_type": "code",
   "execution_count": 14,
   "id": "6d0540ef",
   "metadata": {},
   "outputs": [
    {
     "name": "stdout",
     "output_type": "stream",
     "text": [
      "🔍 Retriever 테스트 중...\n",
      "📄 검색 결과: 3개 문서\n",
      "✅ Retriever 정상 작동 확인\n"
     ]
    }
   ],
   "source": [
    "# Retriever 테스트\n",
    "print(\"🔍 Retriever 테스트 중...\")\n",
    "test_result = retriever.invoke(\"미드저니\")\n",
    "print(f\"📄 검색 결과: {len(test_result)}개 문서\")\n",
    "print(\"✅ Retriever 정상 작동 확인\")\n"
   ]
  },
  {
   "cell_type": "code",
   "execution_count": 15,
   "id": "152a6a12",
   "metadata": {},
   "outputs": [
    {
     "name": "stdout",
     "output_type": "stream",
     "text": [
      "✅ Agentic RAG 그래프 생성 완료\n",
      "🤖 포함된 에이전트:\n",
      "  - Retriever: SPRI 문서 검색\n",
      "  - Researcher: 웹 검색 (TavilySearch)\n",
      "  - Coder: 차트 생성 (Python REPL)\n",
      "  - General LLM: 일반 대화\n",
      "  - Supervisor: 에이전트 관리\n"
     ]
    }
   ],
   "source": [
    "# Agentic RAG 그래프 생성\n",
    "from graph import create_agentic_rag_graph\n",
    "from langchain_core.messages import HumanMessage\n",
    "from langchain_core.runnables import RunnableConfig\n",
    "\n",
    "# 그래프 생성 (메모리 포함)\n",
    "graph = create_agentic_rag_graph(retriever, use_memory=True)\n",
    "\n",
    "print(\"✅ Agentic RAG 그래프 생성 완료\")\n",
    "print(\"🤖 포함된 에이전트:\")\n",
    "print(\"  - Retriever: SPRI 문서 검색\")\n",
    "print(\"  - Researcher: 웹 검색 (TavilySearch)\")\n",
    "print(\"  - Coder: 차트 생성 (Python REPL)\")\n",
    "print(\"  - General LLM: 일반 대화\")\n",
    "print(\"  - Supervisor: 에이전트 관리\")\n"
   ]
  },
  {
   "cell_type": "code",
   "execution_count": 16,
   "id": "a00d92a1",
   "metadata": {},
   "outputs": [
    {
     "name": "stdout",
     "output_type": "stream",
     "text": [
      "✅ 메모리 없는 그래프도 생성 완료\n",
      "💡 메모리 없는 그래프는 각 질문이 완전히 독립적으로 처리됩니다.\n"
     ]
    }
   ],
   "source": [
    "# 메모리 없는 그래프도 생성 (각 질문이 독립적)\n",
    "from graph import create_agentic_rag_graph_no_memory\n",
    "\n",
    "graph_no_memory = create_agentic_rag_graph_no_memory(retriever)\n",
    "\n",
    "print(\"✅ 메모리 없는 그래프도 생성 완료\")\n",
    "print(\"💡 메모리 없는 그래프는 각 질문이 완전히 독립적으로 처리됩니다.\")\n"
   ]
  },
  {
   "cell_type": "markdown",
   "id": "0bb965a3",
   "metadata": {},
   "source": [
    "## 테스트 실행\n",
    "\n",
    "이제 다양한 질문으로 그래프를 테스트해보겠습니다.\n"
   ]
  },
  {
   "cell_type": "code",
   "execution_count": 25,
   "id": "82dc4de4",
   "metadata": {},
   "outputs": [
    {
     "name": "stdout",
     "output_type": "stream",
     "text": [
      "============================================================\n",
      "🧪 테스트 1: 일반 대화\n",
      "============================================================\n",
      "✅ 테스트 1 완료\n",
      "{'messages': [HumanMessage(content='안녕하세요!', additional_kwargs={}, response_metadata={}, id='72e0caa4-be07-4f2f-8117-05c2c4e2a9ac'), HumanMessage(content='안녕하세요! 어떻게 도와드릴까요?', additional_kwargs={}, response_metadata={}, name='general', id='6f4d3ff4-deac-491a-b073-38464d9fafa3'), HumanMessage(content='안녕하세요! 무엇을 도와드릴까요? 궁금한 점이나 필요한 정보가 있으면 말씀해 주세요.', additional_kwargs={}, response_metadata={}, name='general', id='e3cae2c9-a743-464e-8c2c-7dbe7e1d1005'), HumanMessage(content='안녕하세요!', additional_kwargs={}, response_metadata={}, id='2a785120-f2a6-4484-8f67-8381e866201b'), HumanMessage(content='안녕하세요! 반갑습니다. 무엇을 도와드릴까요?', additional_kwargs={}, response_metadata={}, name='general', id='535cc235-9f50-45d6-a35b-b10929c62b47')], 'next': 'FINISH'}\n"
     ]
    }
   ],
   "source": [
    "# 테스트 1: 일반 대화 (General LLM)\n",
    "print(\"=\" * 60)\n",
    "print(\"🧪 테스트 1: 일반 대화\")\n",
    "print(\"=\" * 60)\n",
    "\n",
    "config = RunnableConfig(recursion_limit=10, configurable={\"thread_id\": \"test1\"})\n",
    "\n",
    "inputs = {\n",
    "    \"messages\": [HumanMessage(content=\"안녕하세요!\")]\n",
    "}\n",
    "\n",
    "result = graph.invoke(inputs, config)\n",
    "print(\"✅ 테스트 1 완료\")\n",
    "print(result)\n"
   ]
  },
  {
   "cell_type": "code",
   "execution_count": 24,
   "id": "459ad34f",
   "metadata": {},
   "outputs": [
    {
     "name": "stdout",
     "output_type": "stream",
     "text": [
      "============================================================\n",
      "🧪 테스트 2: SPRI 문서 검색\n",
      "============================================================\n",
      "✅ 테스트 2 완료\n",
      "{'messages': [HumanMessage(content='미드저니 신버전은? SPRI에서 찾아줘', additional_kwargs={}, response_metadata={}, id='20d650cb-4b0c-4421-8d31-34c08b082591'), AIMessage(content=\"미드저니 신버전은 2025년 6월 19일에 비디오 생성 모델 'V1'을 출시했습니다. 이 모델은 미드저니 플랫폼에서 제작된 이미지나 외부 이미지를 바탕으로 동영상을 생성하며, '자동' 설정 시에는 모션 프롬프트가 자동으로 생성되고, '수동' 설정을 선택하면 사용자가 지시에 따라 사물이나 장면의 움직임을 만들 수 있습니다. 사용자는 '하이 모션(High Motion)'과 '로우 모션(Low Motion)' 중에서 움직임 강도를 선택할 수 있습니다. V1은 1회 작업으로 5초 길이의 동영상 4개를 제작하며, 생성된 동영상은 최대 4회까지 4초씩 영상 길이를 확장할 수 있습니다.\\n\\n또한, 미드저니는 2026년에 3D 모델과 실시간 처리 모델을 출시하고, 이를 하나로 통합하는 것을 목표로 하고 있습니다.\\n\\n출처: SPRI AI Brief 8월호 산업동향 (2025)\", additional_kwargs={}, response_metadata={}, name='retriever', id='992d8ee7-2422-4f1c-a75b-38f94645400e'), HumanMessage(content=\"미드저니 신버전은 2025년 6월 19일에 비디오 생성 모델 'V1'을 출시했습니다. 이 모델은 이미지나 외부 이미지를 바탕으로 동영상을 생성하며, 자동 또는 수동 모션 설정을 통해 움직임을 만들 수 있습니다. 사용자는 움직임 강도를 선택할 수 있고, 5초 길이의 동영상 4개를 제작할 수 있으며, 최대 4회까지 4초씩 영상 길이를 확장할 수 있습니다. 또한, 2026년에는 3D 모델과 실시간 처리 모델을 출시하고 이를 통합하는 계획도 있습니다.\", additional_kwargs={}, response_metadata={}, name='general', id='01db70aa-bc23-4500-82ec-1ae81c3a2762'), HumanMessage(content='미드저니 신버전은? SPRI에서 찾아줘', additional_kwargs={}, response_metadata={}, id='f1a45038-789c-41d7-a18a-2b995d253605')], 'next': 'FINISH'}\n"
     ]
    }
   ],
   "source": [
    "# 테스트 2: SPRI 문서 검색 (Retriever)\n",
    "print(\"=\" * 60)\n",
    "print(\"🧪 테스트 2: SPRI 문서 검색\")\n",
    "print(\"=\" * 60)\n",
    "\n",
    "config = RunnableConfig(recursion_limit=10, configurable={\"thread_id\": \"test2\"})\n",
    "\n",
    "inputs = {\n",
    "    \"messages\": [HumanMessage(content=\"미드저니 신버전은? SPRI에서 찾아줘\")]\n",
    "}\n",
    "\n",
    "result = graph.invoke(inputs, config)\n",
    "print(\"✅ 테스트 2 완료\")\n",
    "print(result)\n"
   ]
  },
  {
   "cell_type": "code",
   "execution_count": 23,
   "id": "77084eac",
   "metadata": {},
   "outputs": [
    {
     "name": "stdout",
     "output_type": "stream",
     "text": [
      "============================================================\n",
      "🧪 테스트 3: 웹 검색\n",
      "============================================================\n",
      "✅ 테스트 3 완료\n",
      "{'messages': [HumanMessage(content='2024년 AI 트렌드는? 최신 정보를 찾아줘', additional_kwargs={}, response_metadata={}, id='adb93722-98a4-4a2f-8842-1c471987c16c'), AIMessage(content=\"2024년 AI 트렌드에 대한 최신 정보는 다음과 같습니다:\\n\\n1. 일본 방위성은 2025년 6월 6일 무기 연구개발 시 AI 활용 방침을 발표했습니다. 이 방침은 2024년 7월 발표한 'AI 활용을 위한 기본 방침'을 토대로 무기 관련 연구개발에서 AI 위험을 관리하고 이점을 극대화하는 프레임워크를 제공합니다. 주요 적용 분야는 목표 탐지·식별, 정보 수집·분석, 지휘통제, 후방 지원, 무인기, 사이버 안보, 사무 처리 등 7개 핵심 분야입니다. 또한, 국제인도법 원칙에 따라 AI 무기 개발 시 국제법과 국내법 준수, 인간의 참여와 책임을 요구합니다.\\n\\n2. AI에 노출된 직업의 일자리 수는 전 세계적으로 증가 추세입니다. 특히 AI에 더 많이 노출된 직업(예: 교육 전문가, 법률 전문가)의 일자리 수는 2019~2024년 사이 38% 증가했으나, AI에 덜 노출된 직업(예: 운전사)의 증가율(65%)보다는 낮습니다.\\n\\n3. AI에 가장 많이 노출된 직업(예: 재무 분석가)에서는 고용주가 요구하는 기술 변화가 AI에 덜 노출된 직업(예: 물리 치료사)보다 66% 더 빠르게 일어나고 있으며, 학위 요건은 감소하는 추세입니다. AI 증강형 일자리에서 학위 요구 비율은 2019년 66%에서 2024년 59%로, AI 자동화형 일자리에서는 53%에서 44%로 줄었습니다.\\n\\n이 정보는 SPRI AI Brief 2024년 7월호 산업동향 문서에서 발췌하였습니다.\", additional_kwargs={}, response_metadata={}, name='retriever', id='ccdbbe01-d48e-49d7-91b7-60ac1791de39'), HumanMessage(content='2024년 AI 트렌드 주요 내용은 다음과 같습니다:\\n\\n1. 일본 방위성은 2025년 6월 6일 무기 연구개발에 AI 활용 방침을 발표했습니다. AI를 활용해 목표 탐지, 정보 분석, 지휘통제, 무인기, 사이버 보안 등 7개 핵심 분야에서 AI 위험을 관리하고 이점을 극대화하는 프레임워크를 마련했습니다. 또한 국제법과 국내법 준수를 강조하며 인간의 참여와 책임을 요구합니다.\\n\\n2. AI에 노출된 직업의 일자리 수가 전 세계적으로 증가하고 있습니다. AI에 많이 노출된 직업(교육, 법률 전문가 등)은 2019~2024년 사이 38% 증가했으나, AI에 덜 노출된 직업(운전사 등)은 65% 증가했습니다.\\n\\n3. AI에 많이 노출된 직업에서는 고용주가 요구하는 기술 변화가 더 빠르게 일어나고 있으며, 학위 요건은 감소하는 추세입니다. AI 증강형 일자리에서 학위 요구 비율은 2019년 66%에서 2024년 59%로, AI 자동화형 일자리에서는 53%에서 44%로 줄었습니다.\\n\\n이 내용은 2024년 7월 SPRI AI Brief 산업동향 문서에서 발췌한 최신 정보입니다. 추가로 더 구체적인 트렌드나 분야별 동향이 필요하면 알려주세요!', additional_kwargs={}, response_metadata={}, name='general', id='3ea4922b-2af9-45b7-82ac-40ceca854267'), HumanMessage(content='2024년 AI 트렌드는? 최신 정보를 찾아줘', additional_kwargs={}, response_metadata={}, id='ab833f75-9a24-40dc-8506-0da44104d6ba'), HumanMessage(content='2024년 AI 트렌드 최신 정보 요약입니다:\\n\\n1. 합성데이터 활용 증가: AI 모델 성능 향상을 위해 개인정보 보호와 데이터 부족 문제를 해결하는 합성데이터 사용 사례가 늘고 있습니다.\\n\\n2. 대화형 AI 및 추론 AI 발전: 대화형 AI가 상담, 고객지원 등 분야를 빠르게 대체 및 보완하며, 지식 기반 추론 엔진을 활용한 복잡한 질의응답이 가능해지고 있습니다.\\n\\n3. AI 시장 성장과 협력 모델: AI 시장이 성장하며 오픈소스, 개발도구 활용, 시스템 운영 및 보안, 협업체계 등 다양한 이슈가 부각되고 있습니다. 윤리적 이슈(편향, 저작권, 개인정보 보호 등)도 중요하게 다뤄지고 있습니다.\\n\\n4. 글로벌 AI 경쟁: 미국 빅테크 기업이 초거대 AI 시대를 주도하며 글로벌 AI 경쟁에서 우위를 점하고 있으며, 중국 등 다른 국가와의 격차가 확대되고 있습니다.\\n\\n5. AI 기술 발전과 산업 동향: 첨단 AI 기술은 미국 빅테크 중심으로 발전 중이며, 국내 AI 스타트업은 콘텐츠, 교육, 헬스케어, 모빌리티 분야에서 큰 성장을 보이고 있습니다.\\n\\n6. AI 도입 확산: 2024년 전 세계 조직의 AI 도입률이 75%로 급증하며, AI가 실험 단계를 넘어 실제 비즈니스 가치 창출의 핵심 도구로 자리 잡고 있습니다.\\n\\n7. 멀티모달 AI와 AI Agent: 음성, 이미지, 텍스트 등 다양한 데이터를 활용하는 멀티모달 AI가 확장되고, AI Agent가 일상생활과 업무에 실용적으로 적용되는 시기가 다가오고 있습니다.\\n\\n8. AI 규제와 정책: 유럽연합을 중심으로 AI 규제 법안이 등장하고 있으며, 개인정보 보호와 데이터 수집 문제 해결을 위한 정책 마련이 필요합니다.\\n\\n이 내용은 국내외 주요 보고서와 언론 기사, 한국수출입은행, 마이크로소프트, 개인정보보호위원회 등 신뢰할 수 있는 출처를 기반으로 한 2024년 AI 트렌드 최신 정보입니다. 추가로 특정 분야나 세부 트렌드에 대해 더 알고 싶으시면 말씀해 주세요.', additional_kwargs={}, response_metadata={}, name='research', id='9019d3b3-3281-4958-8830-3375e82e1eac'), HumanMessage(content='2024년 AI 트렌드 최신 요약입니다:\\n\\n1. 합성데이터 활용 증가: 개인정보 보호와 데이터 부족 문제 해결을 위해 합성데이터 사용이 늘고 있습니다.\\n\\n2. 대화형 AI 및 추론 AI 발전: 상담, 고객지원 등에서 대화형 AI가 빠르게 확산되고, 지식 기반 추론 AI가 복잡한 질의응답을 지원합니다.\\n\\n3. AI 시장 성장과 협력 모델: 오픈소스, 개발도구, 보안, 협업체계 등 다양한 이슈가 부각되며 윤리적 문제도 중요하게 다뤄지고 있습니다.\\n\\n4. 글로벌 AI 경쟁: 미국 빅테크가 초거대 AI 시대를 주도하며 중국 등과의 격차가 커지고 있습니다.\\n\\n5. AI 기술 발전과 산업 동향: 미국 빅테크 중심으로 첨단 AI 기술이 발전 중이며, 국내 스타트업은 콘텐츠, 교육, 헬스케어, 모빌리티 분야에서 성장 중입니다.\\n\\n6. AI 도입 확산: 전 세계 조직의 75%가 AI를 도입하며 비즈니스 핵심 도구로 자리 잡고 있습니다.\\n\\n7. 멀티모달 AI와 AI Agent: 음성, 이미지, 텍스트 등 다양한 데이터를 활용하는 멀티모달 AI가 확장되고, AI Agent가 실생활과 업무에 적용되고 있습니다.\\n\\n8. AI 규제와 정책: 유럽연합 중심으로 AI 규제 법안이 등장하며 개인정보 보호와 데이터 수집 문제 해결을 위한 정책이 마련되고 있습니다.\\n\\n필요하시면 특정 분야나 세부 트렌드에 대해 더 자세히 알려드릴 수 있습니다!', additional_kwargs={}, response_metadata={}, name='general', id='641e5cb3-f442-440e-bdb8-6b51fd036cb9')], 'next': 'FINISH'}\n"
     ]
    }
   ],
   "source": [
    "# 테스트 3: 웹 검색 (Researcher)\n",
    "print(\"=\" * 60)\n",
    "print(\"🧪 테스트 3: 웹 검색\")\n",
    "print(\"=\" * 60)\n",
    "\n",
    "config = RunnableConfig(recursion_limit=10, configurable={\"thread_id\": \"test3\"})\n",
    "\n",
    "inputs = {\n",
    "    \"messages\": [HumanMessage(content=\"2024년 AI 트렌드는? 최신 정보를 찾아줘\")]\n",
    "}\n",
    "\n",
    "result = graph.invoke(inputs, config)\n",
    "print(\"✅ 테스트 3 완료\")\n",
    "print(result)\n"
   ]
  },
  {
   "cell_type": "code",
   "execution_count": 20,
   "id": "fdac4f9f",
   "metadata": {},
   "outputs": [
    {
     "name": "stdout",
     "output_type": "stream",
     "text": [
      "============================================================\n",
      "🧪 테스트 4: 차트 생성\n",
      "============================================================\n"
     ]
    },
    {
     "data": {
      "image/png": "[encoded data removed]",
      "text/plain": [
       "<Figure size 1200x600 with 1 Axes>"
      ]
     },
     "metadata": {},
     "output_type": "display_data"
    },
    {
     "name": "stdout",
     "output_type": "stream",
     "text": [
      "✅ 테스트 4 완료\n"
     ]
    }
   ],
   "source": [
    "# 테스트 4: 차트 생성 (Coder)\n",
    "print(\"=\" * 60)\n",
    "print(\"🧪 테스트 4: 차트 생성\")\n",
    "print(\"=\" * 60)\n",
    "\n",
    "config = RunnableConfig(recursion_limit=10, configurable={\"thread_id\": \"test4\"})\n",
    "\n",
    "inputs = {\n",
    "    \"messages\": [HumanMessage(content=\"2010년부터 2024년까지 대한민국 1인당 GDP 추이를 그래프로 그려줘\")]\n",
    "}\n",
    "\n",
    "result = graph.invoke(inputs, config)\n",
    "print(\"✅ 테스트 4 완료\")\n"
   ]
  },
  {
   "cell_type": "markdown",
   "id": "780fd883",
   "metadata": {},
   "source": [
    "## 스트리밍 테스트\n",
    "\n",
    "실시간으로 그래프 실행 과정을 확인해보겠습니다.\n"
   ]
  },
  {
   "cell_type": "code",
   "execution_count": 21,
   "id": "e59fb4c1",
   "metadata": {},
   "outputs": [
    {
     "name": "stdout",
     "output_type": "stream",
     "text": [
      "============================================================\n",
      "🌊 스트리밍 테스트\n",
      "============================================================\n",
      "\n",
      "==================================================\n",
      "🔄 Node: \u001b[1;36mSupervisor\u001b[0m 🔄\n",
      "- - - - - - - - - - - - - - - - - - - - - - - - - \n",
      "{\"next\":\"General LLM\"}\n",
      "==================================================\n",
      "🔄 Node: \u001b[1;36magent\u001b[0m 🔄\n",
      "- - - - - - - - - - - - - - - - - - - - - - - - - \n",
      "안녕! 나는 잘 지내고 있어. 너는 어떻게 지내? 도움이 필요하면 언제든 말해줘!\n",
      "==================================================\n",
      "🔄 Node: \u001b[1;36mGeneral LLM\u001b[0m 🔄\n",
      "- - - - - - - - - - - - - - - - - - - - - - - - - \n",
      "안녕! 나는 잘 지내고 있어. 너는 어떻게 지내? 도움이 필요하면 언제든 말해줘!\n",
      "==================================================\n",
      "🔄 Node: \u001b[1;36mSupervisor\u001b[0m 🔄\n",
      "- - - - - - - - - - - - - - - - - - - - - - - - - \n",
      "{\"next\":\"FINISH\"}"
     ]
    }
   ],
   "source": [
    "# 스트리밍 테스트 (실시간 실행 과정 확인)\n",
    "from langchain_teddynote.messages import stream_graph\n",
    "\n",
    "print(\"=\" * 60)\n",
    "print(\"🌊 스트리밍 테스트\")\n",
    "print(\"=\" * 60)\n",
    "\n",
    "config = RunnableConfig(recursion_limit=10, configurable={\"thread_id\": \"stream_test\"})\n",
    "\n",
    "inputs = {\n",
    "    \"messages\": [HumanMessage(content=\"안녕? 어떻게 지내?\")]\n",
    "}\n",
    "\n",
    "# 스트리밍으로 실행\n",
    "stream_graph(graph, inputs, config)\n"
   ]
  },
  {
   "cell_type": "markdown",
   "id": "2bd34073",
   "metadata": {},
   "source": [
    "## 메모리 없는 그래프 테스트\n",
    "\n",
    "각 질문이 완전히 독립적으로 처리되는 메모리 없는 그래프를 테스트해보겠습니다.\n"
   ]
  },
  {
   "cell_type": "markdown",
   "id": "21c7d1b2",
   "metadata": {},
   "source": [
    "## 사용자 정의 질문 테스트\n",
    "\n",
    "원하는 질문을 입력해서 테스트해보세요!\n"
   ]
  },
  {
   "cell_type": "code",
   "execution_count": 26,
   "id": "dbb4b7c2",
   "metadata": {},
   "outputs": [
    {
     "name": "stdout",
     "output_type": "stream",
     "text": [
      "============================================================\n",
      "🎯 사용자 정의 질문 테스트\n",
      "============================================================\n",
      "❓ 질문: AI의 미래는 어떻게 될까요?\n",
      "============================================================\n",
      "\n",
      "==================================================\n",
      "🔄 Node: \u001b[1;36mSupervisor\u001b[0m 🔄\n",
      "- - - - - - - - - - - - - - - - - - - - - - - - - \n",
      "{\"next\":\"General LLM\"}\n",
      "==================================================\n",
      "🔄 Node: \u001b[1;36magent\u001b[0m 🔄\n",
      "- - - - - - - - - - - - - - - - - - - - - - - - - \n",
      "AI의 미래는 매우 밝고 다방면에서 큰 변화를 가져올 것으로 예상됩니다. 몇 가지 주요 전망을 말씀드리자면:\n",
      "\n",
      "1. **기술 발전 가속화**: AI 알고리즘과 하드웨어의 발전으로 AI의 성능과 효율성이 크게 향상될 것입니다. 더 정교하고 복잡한 문제를 해결할 수 있게 될 것입니다.\n",
      "\n",
      "2. **산업 전반의 혁신**: 의료, 금융, 제조, 교육, 교통 등 다양한 산업에서 AI가 핵심 역할을 하며 업무 효율성과 품질을 높일 것입니다.\n",
      "\n",
      "3. **개인화 서비스 확대**: AI는 개인의 취향과 필요에 맞춘 맞춤형 서비스 제공에 더욱 능숙해져, 사용자 경험이 크게 개선될 것입니다.\n",
      "\n",
      "4. **윤리적 문제와 규제**: AI의 영향력이 커짐에 따라 개인정보 보호, 편향성, 책임 소재 등 윤리적 문제에 대한 논의와 규제가 강화될 것입니다.\n",
      "\n",
      "5. **인간과 AI의 협업**: AI가 인간의 업무를 대체하기보다는 보완하고 협력하는 방향으로 발전하여, 새로운 형태의 일자리와 협업 모델이 등장할 것입니다.\n",
      "\n",
      "6. **자율 시스템의 확산**: 자율주행차, 드론, 로봇 등 자율 시스템이 일상생활과 산업 현장에 널리 보급될 것입니다.\n",
      "\n",
      "요약하면, AI는 앞으로도 계속 발전하며 우리 삶과 사회 전반에 깊은 영향을 미칠 것이며, 기술적 진보와 함께 윤리적, 사회적 고려도 중요해질 것입니다. 더 구체적인 분야나 관심사가 있으시면 말씀해 주세요!\n",
      "==================================================\n",
      "🔄 Node: \u001b[1;36mGeneral LLM\u001b[0m 🔄\n",
      "- - - - - - - - - - - - - - - - - - - - - - - - - \n",
      "AI의 미래는 매우 밝고 다방면에서 큰 변화를 가져올 것으로 예상됩니다. 몇 가지 주요 전망을 말씀드리자면:\n",
      "\n",
      "1. **기술 발전 가속화**: AI 알고리즘과 하드웨어의 발전으로 AI의 성능과 효율성이 크게 향상될 것입니다. 더 정교하고 복잡한 문제를 해결할 수 있게 될 것입니다.\n",
      "\n",
      "2. **산업 전반의 혁신**: 의료, 금융, 제조, 교육, 교통 등 다양한 산업에서 AI가 핵심 역할을 하며 업무 효율성과 품질을 높일 것입니다.\n",
      "\n",
      "3. **개인화 서비스 확대**: AI는 개인의 취향과 필요에 맞춘 맞춤형 서비스 제공에 더욱 능숙해져, 사용자 경험이 크게 개선될 것입니다.\n",
      "\n",
      "4. **윤리적 문제와 규제**: AI의 영향력이 커짐에 따라 개인정보 보호, 편향성, 책임 소재 등 윤리적 문제에 대한 논의와 규제가 강화될 것입니다.\n",
      "\n",
      "5. **인간과 AI의 협업**: AI가 인간의 업무를 대체하기보다는 보완하고 협력하는 방향으로 발전하여, 새로운 형태의 일자리와 협업 모델이 등장할 것입니다.\n",
      "\n",
      "6. **자율 시스템의 확산**: 자율주행차, 드론, 로봇 등 자율 시스템이 일상생활과 산업 현장에 널리 보급될 것입니다.\n",
      "\n",
      "요약하면, AI는 앞으로도 계속 발전하며 우리 삶과 사회 전반에 깊은 영향을 미칠 것이며, 기술적 진보와 함께 윤리적, 사회적 고려도 중요해질 것입니다. 더 구체적인 분야나 관심사가 있으시면 말씀해 주세요!\n",
      "==================================================\n",
      "🔄 Node: \u001b[1;36mSupervisor\u001b[0m 🔄\n",
      "- - - - - - - - - - - - - - - - - - - - - - - - - \n",
      "{\"next\":\"FINISH\"}"
     ]
    }
   ],
   "source": [
    "# 사용자 정의 질문 테스트\n",
    "# 아래 질문을 원하는 내용으로 변경해서 테스트해보세요!\n",
    "\n",
    "user_question = \"AI의 미래는 어떻게 될까요?\"\n",
    "\n",
    "print(\"=\" * 60)\n",
    "print(\"🎯 사용자 정의 질문 테스트\")\n",
    "print(\"=\" * 60)\n",
    "print(f\"❓ 질문: {user_question}\")\n",
    "print(\"=\" * 60)\n",
    "\n",
    "config = RunnableConfig(recursion_limit=10, configurable={\"thread_id\": \"user_test\"})\n",
    "\n",
    "inputs = {\n",
    "    \"messages\": [HumanMessage(content=user_question)]\n",
    "}\n",
    "\n",
    "# 스트리밍으로 실행하여 실시간 과정 확인\n",
    "stream_graph(graph, inputs, config)\n"
   ]
  },
  {
   "cell_type": "markdown",
   "id": "e71bc1e6",
   "metadata": {},
   "source": [
    "## 모듈 구조 요약\n",
    "\n",
    "이제 분리된 모듈들을 사용하여 Agentic RAG 시스템을 성공적으로 실행했습니다!\n",
    "\n",
    "### 📁 모듈 구조\n",
    "- **`states.py`**: 상태 정의 (AgentState, RouteResponse, MEMBERS)\n",
    "- **`tools.py`**: 도구 생성 (retriever_tool, python_repl_tool, tavily_search_tool)\n",
    "- **`agents.py`**: 에이전트 생성 (retriever, research, coder, general agents)\n",
    "- **`nodes.py`**: 노드 실행 함수들\n",
    "- **`graph.py`**: 그래프 생성 및 워크플로우 (Supervisor 포함)\n",
    "\n",
    "### 🎯 장점\n",
    "- **모듈화**: 각 기능이 명확히 분리됨\n",
    "- **재사용성**: 각 모듈을 독립적으로 사용 가능\n",
    "- **유지보수**: 특정 기능 수정 시 해당 모듈만 수정\n",
    "- **테스트**: 각 모듈을 독립적으로 테스트 가능\n"
   ]
  },
  {
   "cell_type": "code",
   "execution_count": null,
   "id": "f8bb1c2f",
   "metadata": {},
   "outputs": [],
   "source": []
  },
  {
   "cell_type": "code",
   "execution_count": null,
   "id": "4816c6d4",
   "metadata": {},
   "outputs": [],
   "source": []
  }
 ],
 "metadata": {
  "kernelspec": {
   "display_name": "dotenv",
   "language": "python",
   "name": "python3"
  },
  "language_info": {
   "codemirror_mode": {
    "name": "ipython",
    "version": 3
   },
   "file_extension": ".py",
   "mimetype": "text/x-python",
   "name": "python",
   "nbconvert_exporter": "python",
   "pygments_lexer": "ipython3",
   "version": "3.11.9"
  }
 },
 "nbformat": 4,
 "nbformat_minor": 5
}
