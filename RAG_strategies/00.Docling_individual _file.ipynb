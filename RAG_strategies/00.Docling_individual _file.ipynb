{
 "cells": [
  {
   "cell_type": "code",
   "execution_count": 1,
   "id": "0bb8834e",
   "metadata": {},
   "outputs": [],
   "source": [
    "# pip install langchain\n",
    "# pip install docling\n",
    "# pip install langchain_docling"
   ]
  },
  {
   "cell_type": "code",
   "execution_count": 1,
   "id": "e84306b4",
   "metadata": {},
   "outputs": [
    {
     "name": "stderr",
     "output_type": "stream",
     "text": [
      "c:\\Users\\skyop\\jaeho_template\\venv_docling\\Lib\\site-packages\\tqdm\\auto.py:21: TqdmWarning: IProgress not found. Please update jupyter and ipywidgets. See https://ipywidgets.readthedocs.io/en/stable/user_install.html\n",
      "  from .autonotebook import tqdm as notebook_tqdm\n"
     ]
    }
   ],
   "source": [
    "from langchain_docling import DoclingLoader\n",
    "from langchain_docling.loader import ExportType\n",
    "from docling.document_converter import DocumentConverter\n",
    "\n",
    "# 파싱과 LLM이 이해하기 쉬운 rule_base로 변환까지 하기 때문에 시간이 꽤나 걸린다. \n",
    "# FILE_PATH = \"https://arxiv.org/pdf/2408.09869\" # Docling을 설명하는 논문 - 이미지 경로 - 이것을 사용할땐 FILENAME 뺄것\n",
    "\n",
    "\n",
    "FILE_PATH = \"C:/Users/skyop/jaeho_template/RAG_strategies/data\"\n",
    "# FILE_NAME = \"insight_Agentic.pdf\"\n",
    "FILE_NAME = \"SPRi AI Brief 7월호 산업동향.pdf\"\n",
    "\n",
    "source = f\"{FILE_PATH}/{FILE_NAME}\"  # document per local path or URL\n",
    "converter = DocumentConverter()\n",
    "result = converter.convert(source)\n",
    "\n",
    "loader = DoclingLoader(\n",
    "    file_path=f\"{FILE_PATH}/{FILE_NAME}\",\n",
    "    export_type=ExportType.MARKDOWN, # 이게 없다면 markdown형식이 아닌 그냥 text형식으로 반환\n",
    "    \n",
    ")\n",
    "\n",
    "docs = loader.load()"
   ]
  },
  {
   "cell_type": "markdown",
   "id": "c76dbfc7",
   "metadata": {},
   "source": [
    "### 마크다운 형식으로 파일 확인"
   ]
  },
  {
   "cell_type": "code",
   "execution_count": null,
   "id": "8366e848",
   "metadata": {},
   "outputs": [],
   "source": [
    "from IPython.display import Markdown\n",
    "\n",
    "# 마크다운 형식으로 문서를 내보내기\n",
    "# export_to_markdown() 메서드는 문서를 마크다운 형식으로 변환하여 반환합니다.\n",
    "display(Markdown(result.document.export_to_markdown()))"
   ]
  },
  {
   "cell_type": "markdown",
   "id": "fc97b4ee",
   "metadata": {},
   "source": [
    "### Markdown 파일로 저장"
   ]
  },
  {
   "cell_type": "code",
   "execution_count": 2,
   "id": "823204c0",
   "metadata": {},
   "outputs": [],
   "source": [
    "import os\n",
    "# 모든 문서를 하나의 txt 파일로 저장\n",
    "SAVE_DIR = \"C:/Users/skyop/jaeho_template/RAG_strategies/docling_outputs\"\n",
    "\n",
    "save_path = os.path.join(SAVE_DIR, f\"{FILE_NAME}.md\")\n",
    "with open(save_path, \"w\", encoding=\"utf-8\") as f:\n",
    "    for i, doc in enumerate(docs, 1):\n",
    "        f.write(f\"## Document {i}\\n\\n\")\n",
    "        f.write(doc.page_content)\n",
    "        f.write(\"\\n\\n\")"
   ]
  },
  {
   "cell_type": "markdown",
   "id": "2437afb3",
   "metadata": {},
   "source": [
    "# JSON파일로 저장(메타데이터가 필요할 때)"
   ]
  },
  {
   "cell_type": "code",
   "execution_count": 3,
   "id": "1192ced2",
   "metadata": {},
   "outputs": [
    {
     "name": "stdout",
     "output_type": "stream",
     "text": [
      "저장 완료: C:/Users/skyop/jaeho_template/RAG_strategies/docling_outputs\\SPRi AI Brief 7월호 산업동향.pdf.json\n"
     ]
    }
   ],
   "source": [
    "import json\n",
    "\n",
    "os.makedirs(SAVE_DIR, exist_ok=True)\n",
    "\n",
    "save_path = os.path.join(SAVE_DIR, f\"{FILE_NAME}.json\")\n",
    "\n",
    "json_docs = [\n",
    "    {\"content\": doc.page_content, \"metadata\": doc.metadata}\n",
    "    for doc in docs\n",
    "]\n",
    "\n",
    "with open(save_path, \"w\", encoding=\"utf-8\") as f:\n",
    "    json.dump(json_docs, f, ensure_ascii=False, indent=2)\n",
    "\n",
    "print(f\"저장 완료: {save_path}\")"
   ]
  },
  {
   "cell_type": "code",
   "execution_count": null,
   "id": "cdef3a83",
   "metadata": {},
   "outputs": [],
   "source": [
    "# HTML 형식으로 문서를 내보내기\n",
    "# export_to_html() 메서드는 문서를 HTML 형식으로 변환하여 반환합니다.\n",
    "# print(result.document.export_to_html())"
   ]
  },
  {
   "cell_type": "code",
   "execution_count": null,
   "id": "4c658125",
   "metadata": {},
   "outputs": [],
   "source": [
    "# doctag 형식으로 문서를 내보내기\n",
    "# export_to_doctag() 메서드는 문서를 doctag 형식으로 변환하여 반환합니다.\n",
    "# print(result.document.export_to_doctags())"
   ]
  }
 ],
 "metadata": {
  "kernelspec": {
   "display_name": "venv_docling",
   "language": "python",
   "name": "python3"
  },
  "language_info": {
   "codemirror_mode": {
    "name": "ipython",
    "version": 3
   },
   "file_extension": ".py",
   "mimetype": "text/x-python",
   "name": "python",
   "nbconvert_exporter": "python",
   "pygments_lexer": "ipython3",
   "version": "3.11.9"
  }
 },
 "nbformat": 4,
 "nbformat_minor": 5
}
