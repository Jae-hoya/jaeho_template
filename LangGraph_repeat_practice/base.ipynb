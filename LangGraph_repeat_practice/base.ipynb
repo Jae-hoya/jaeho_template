{
 "cells": [
  {
   "cell_type": "code",
   "execution_count": null,
   "metadata": {},
   "outputs": [
    {
     "data": {
      "text/plain": [
       "True"
      ]
     },
     "metadata": {},
     "output_type": "display_data"
    }
   ],
   "source": [
    "from dotenv import load_dotenv\n",
    "load_dotenv()"
   ]
  },
  {
   "cell_type": "code",
   "execution_count": null,
   "metadata": {},
   "outputs": [],
   "source": [
    "from langchain_ollama import OllamaEmbeddings\n",
    "from langchain.vectorstores import FAISS\n",
    "\n",
    "embedding = OllamaEmbeddings(model=\"bge-m3\")\n",
    "\n",
    "db = FAISS.load_local(\"FAISS_SAJU/\", embeddings=embedding, allow_dangerous_deserialization=True)"
   ]
  },
  {
   "cell_type": "code",
   "execution_count": null,
   "metadata": {},
   "outputs": [],
   "source": [
    "retriever = db.as_retriever(search_kwargs={\"k\":10})"
   ]
  },
  {
   "cell_type": "code",
   "execution_count": null,
   "metadata": {},
   "outputs": [
    {
     "data": {
      "text/plain": [
       "[Document(id='eb472063-3afc-46de-b07c-a8edcb6140db', metadata={'source': 'data/The-Four-Pillars-of-Destiny-Understanding-Character-Relationships-and-Potential-through-Chinese-Astrology.md'}, page_content='|--------------------------------|----------------------------------------------------------------------------------------------------------------------------------------------------------------------------------------------------------------------------------------------------------------------------------------------------------------------------------------------------------------------------|---------------------------------------------------------------------------------------------------------------------------------------------------------------------------------------------------|'),\n",
       " Document(id='9d4e0288-2b18-44c4-99dc-db2e7559be02', metadata={'source': 'data/The-Four-Pillars-of-Destiny-Understanding-Character-Relationships-and-Potential-through-Chinese-Astrology.md'}, page_content='# Heaven\\n| Heaven (天, Yang)      |                           |                          |\\n|------------------------|---------------------------|--------------------------|\\n| ↓                      |                           |                          |\\n|                        | ● Man’s head              |                          |\\n|                        | │ Vertical axis           |                          |\\n|                        |                           |                          |\\n| Earth (地, Yin)        | ◠ Man’s lower body        |                          |'),\n",
       " Document(id='905a51bc-933a-4dc5-9572-b0faf84a43f2', metadata={'source': 'data/The-Four-Pillars-of-Destiny-Understanding-Character-Relationships-and-Potential-through-Chinese-Astrology.md'}, page_content='### Earth'),\n",
       " Document(id='17b788ed-ff8a-4489-aa10-2fa0b296de32', metadata={'source': 'data/The-Four-Pillars-of-Destiny-Understanding-Character-Relationships-and-Potential-through-Chinese-Astrology.md'}, page_content='| **7. Bing**<br/>(Ailment)             | Snake           | Rat           | Monkey           | Rabbit          | Monkey          | Rabbit         | Pig                | Horse           | Tiger            | Rooster         |\\n| **8. Si**<br/>(Release)               | Horse           | Pig           | Rooster          | Tiger           | Rooster         | Tiger          | Rat                | Snake           | Rabbit           | Monkey          |\\n| **9. Jue**<br/>(Dormancy)             | Goat            | Dog           | Dog              | Ox              | Dog             | Ox             | Ox                 | Dragon          | Dragon           | Goat            |\\n| **10. Ju**<br/>(Completion)           | Monkey          | Rooster       | Pig              | Rat             | Pig             | Rat            | Tiger              | Rabbit          | Snake            | Horse           |'),\n",
       " Document(id='4bc84824-c6cc-4451-8f69-4f3744db81af', metadata={'source': 'data/The-Four-Pillars-of-Destiny-Understanding-Character-Relationships-and-Potential-through-Chinese-Astrology.md'}, page_content='### Positives'),\n",
       " Document(id='0dea4f1e-2816-49c2-a0c4-0ba52beea925', metadata={'source': 'data/The-Four-Pillars-of-Destiny-Understanding-Character-Relationships-and-Potential-through-Chinese-Astrology.md'}, page_content='### Positives'),\n",
       " Document(id='59a4142c-b2a4-473a-9df2-beda968488c6', metadata={'source': 'data/The-Four-Pillars-of-Destiny-Understanding-Character-Relationships-and-Potential-through-Chinese-Astrology.md'}, page_content='### Positives'),\n",
       " Document(id='ccd5abe8-d1b5-40d4-a7f1-0d017fc7fa61', metadata={'source': 'data/The-Four-Pillars-of-Destiny-Understanding-Character-Relationships-and-Potential-through-Chinese-Astrology.md'}, page_content='### Positives'),\n",
       " Document(id='0a4861da-23ed-4a2d-af52-39c4af8fee07', metadata={'source': 'data/The-Four-Pillars-of-Destiny-Understanding-Character-Relationships-and-Potential-through-Chinese-Astrology.md'}, page_content='| Yin       | Yang       |\\n| --------- | ---------- |\\n| Darkness  | Light      |\\n| Moon      | Sun        |\\n| Sink      | Rise       |\\n| Shade     | Brightness |\\n| Slow      | Fast       |\\n| Sunset    | Sunrise    |\\n| North     | South      |\\n| Earth     | Heaven     |\\n| Right     | Left       |\\n| Blood     | Spirit     |\\n| Matter    | Energy     |\\n| Structure | Function   |\\n\\n## INTERDEPENDENCE'),\n",
       " Document(id='2921bbb7-7423-4474-a540-6baff0084510', metadata={'source': 'data/The-Four-Pillars-of-Destiny-Understanding-Character-Relationships-and-Potential-through-Chinese-Astrology.md'}, page_content='### 9. Dormancy/Tomb/Grave (Medium)')]"
      ]
     },
     "metadata": {},
     "output_type": "display_data"
    }
   ],
   "source": [
    "retriever.invoke(\"안녕?\")"
   ]
  },
  {
   "cell_type": "markdown",
   "metadata": {},
   "source": [
    "### Chain 구축\n"
   ]
  },
  {
   "cell_type": "code",
   "execution_count": null,
   "metadata": {},
   "outputs": [],
   "source": [
    "#from langchain import hub\n",
    "from langchain_core.prompts import load_prompt\n",
    "\n",
    "from langchain_openai import ChatOpenAI\n",
    "from langchain_core.output_parsers import StrOutputParser\n",
    "\n",
    "from operator import itemgetter\n",
    "\n",
    "# prompt = hub.pull(\"teddynote/rag-prompt-chat-history\")\n",
    "prompt = load_prompt(\"../prompt/rag-prompt-chat-history.yaml\")\n",
    "\n",
    "model = ChatOpenAI(model=\"gpt-4o-mini\")\n",
    "\n",
    "pdf_chain = {\n",
    "    \"question\": itemgetter(\"question\"),\n",
    "    \"context\": itemgetter(\"context\"),\n",
    "    \"chat_history\": itemgetter(\"chat_history\"),\n",
    "} | prompt | model | StrOutputParser()\n"
   ]
  }
 ],
 "metadata": {
  "language_info": {
   "name": "python"
  }
 },
 "nbformat": 4,
 "nbformat_minor": 2
}
