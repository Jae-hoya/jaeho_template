{
 "cells": [
  {
   "cell_type": "code",
   "execution_count": 1,
   "metadata": {},
   "outputs": [
    {
     "data": {
      "text/plain": [
       "True"
      ]
     },
     "execution_count": 1,
     "metadata": {},
     "output_type": "execute_result"
    }
   ],
   "source": [
    "from dotenv import load_dotenv\n",
    "load_dotenv()"
   ]
  },
  {
   "cell_type": "code",
   "execution_count": 2,
   "metadata": {},
   "outputs": [],
   "source": [
    "from langchain_ollama import OllamaEmbeddings\n",
    "from langchain.vectorstores import FAISS\n",
    "\n",
    "embedding = OllamaEmbeddings(model=\"bge-m3\")\n",
    "\n",
    "db = FAISS.load_local(\"FAISS_SAJU/\", embeddings=embedding, allow_dangerous_deserialization=True)"
   ]
  },
  {
   "cell_type": "code",
   "execution_count": 3,
   "metadata": {},
   "outputs": [],
   "source": [
    "retriever = db.as_retriever(search_kwargs={\"k\":10})"
   ]
  },
  {
   "cell_type": "code",
   "execution_count": 4,
   "metadata": {},
   "outputs": [
    {
     "data": {
      "text/plain": [
       "[Document(id='eb472063-3afc-46de-b07c-a8edcb6140db', metadata={'source': 'data/The-Four-Pillars-of-Destiny-Understanding-Character-Relationships-and-Potential-through-Chinese-Astrology.md'}, page_content='|--------------------------------|----------------------------------------------------------------------------------------------------------------------------------------------------------------------------------------------------------------------------------------------------------------------------------------------------------------------------------------------------------------------------|---------------------------------------------------------------------------------------------------------------------------------------------------------------------------------------------------|'),\n",
       " Document(id='9d4e0288-2b18-44c4-99dc-db2e7559be02', metadata={'source': 'data/The-Four-Pillars-of-Destiny-Understanding-Character-Relationships-and-Potential-through-Chinese-Astrology.md'}, page_content='# Heaven\\n| Heaven (天, Yang)      |                           |                          |\\n|------------------------|---------------------------|--------------------------|\\n| ↓                      |                           |                          |\\n|                        | ● Man’s head              |                          |\\n|                        | │ Vertical axis           |                          |\\n|                        |                           |                          |\\n| Earth (地, Yin)        | ◠ Man’s lower body        |                          |'),\n",
       " Document(id='905a51bc-933a-4dc5-9572-b0faf84a43f2', metadata={'source': 'data/The-Four-Pillars-of-Destiny-Understanding-Character-Relationships-and-Potential-through-Chinese-Astrology.md'}, page_content='### Earth'),\n",
       " Document(id='17b788ed-ff8a-4489-aa10-2fa0b296de32', metadata={'source': 'data/The-Four-Pillars-of-Destiny-Understanding-Character-Relationships-and-Potential-through-Chinese-Astrology.md'}, page_content='| **7. Bing**<br/>(Ailment)             | Snake           | Rat           | Monkey           | Rabbit          | Monkey          | Rabbit         | Pig                | Horse           | Tiger            | Rooster         |\\n| **8. Si**<br/>(Release)               | Horse           | Pig           | Rooster          | Tiger           | Rooster         | Tiger          | Rat                | Snake           | Rabbit           | Monkey          |\\n| **9. Jue**<br/>(Dormancy)             | Goat            | Dog           | Dog              | Ox              | Dog             | Ox             | Ox                 | Dragon          | Dragon           | Goat            |\\n| **10. Ju**<br/>(Completion)           | Monkey          | Rooster       | Pig              | Rat             | Pig             | Rat            | Tiger              | Rabbit          | Snake            | Horse           |'),\n",
       " Document(id='4bc84824-c6cc-4451-8f69-4f3744db81af', metadata={'source': 'data/The-Four-Pillars-of-Destiny-Understanding-Character-Relationships-and-Potential-through-Chinese-Astrology.md'}, page_content='### Positives'),\n",
       " Document(id='0dea4f1e-2816-49c2-a0c4-0ba52beea925', metadata={'source': 'data/The-Four-Pillars-of-Destiny-Understanding-Character-Relationships-and-Potential-through-Chinese-Astrology.md'}, page_content='### Positives'),\n",
       " Document(id='59a4142c-b2a4-473a-9df2-beda968488c6', metadata={'source': 'data/The-Four-Pillars-of-Destiny-Understanding-Character-Relationships-and-Potential-through-Chinese-Astrology.md'}, page_content='### Positives'),\n",
       " Document(id='ccd5abe8-d1b5-40d4-a7f1-0d017fc7fa61', metadata={'source': 'data/The-Four-Pillars-of-Destiny-Understanding-Character-Relationships-and-Potential-through-Chinese-Astrology.md'}, page_content='### Positives'),\n",
       " Document(id='0a4861da-23ed-4a2d-af52-39c4af8fee07', metadata={'source': 'data/The-Four-Pillars-of-Destiny-Understanding-Character-Relationships-and-Potential-through-Chinese-Astrology.md'}, page_content='| Yin       | Yang       |\\n| --------- | ---------- |\\n| Darkness  | Light      |\\n| Moon      | Sun        |\\n| Sink      | Rise       |\\n| Shade     | Brightness |\\n| Slow      | Fast       |\\n| Sunset    | Sunrise    |\\n| North     | South      |\\n| Earth     | Heaven     |\\n| Right     | Left       |\\n| Blood     | Spirit     |\\n| Matter    | Energy     |\\n| Structure | Function   |\\n\\n## INTERDEPENDENCE'),\n",
       " Document(id='2921bbb7-7423-4474-a540-6baff0084510', metadata={'source': 'data/The-Four-Pillars-of-Destiny-Understanding-Character-Relationships-and-Potential-through-Chinese-Astrology.md'}, page_content='### 9. Dormancy/Tomb/Grave (Medium)')]"
      ]
     },
     "execution_count": 4,
     "metadata": {},
     "output_type": "execute_result"
    }
   ],
   "source": [
    "retriever.invoke(\"안녕?\")"
   ]
  },
  {
   "cell_type": "markdown",
   "metadata": {},
   "source": [
    "### Chain 구축\n"
   ]
  },
  {
   "cell_type": "code",
   "execution_count": 5,
   "metadata": {},
   "outputs": [],
   "source": [
    "#from langchain import hub\n",
    "from langchain_core.prompts import load_prompt\n",
    "\n",
    "from langchain_openai import ChatOpenAI\n",
    "from langchain_core.output_parsers import StrOutputParser\n",
    "\n",
    "from operator import itemgetter\n",
    "\n",
    "# prompt = hub.pull(\"teddynote/rag-prompt-chat-history\")\n",
    "prompt = load_prompt(\"../prompt/rag-prompt-chat-history.yaml\")\n",
    "\n",
    "model = ChatOpenAI(model=\"gpt-4o-mini\")\n",
    "\n",
    "pdf_chain = {\n",
    "    \"question\": itemgetter(\"question\"),\n",
    "    \"context\": itemgetter(\"context\"),\n",
    "    \"chat_history\": itemgetter(\"chat_history\"),\n",
    "} | prompt | model | StrOutputParser()\n"
   ]
  },
  {
   "cell_type": "code",
   "execution_count": 6,
   "metadata": {},
   "outputs": [
    {
     "name": "stdout",
     "output_type": "stream",
     "text": [
      "You are an AI assistant specializing in Question-Answering (QA) tasks within a Retrieval-Augmented Generation (RAG) system. \n",
      "Your primary mission is to answer questions based on provided context or chat history.\n",
      "Ensure your response is concise and directly addresses the question without any additional narration.\n",
      "\n",
      "###\n",
      "\n",
      "You may consider the previous conversation history to answer the question.\n",
      "\n",
      "# Here's the previous conversation history:\n",
      "\u001b[33;1m\u001b[1;3m{chat_history}\u001b[0m\n",
      "\n",
      "###\n",
      "\n",
      "Your final answer should be written concisely (but include important numerical values, technical terms, jargon, and names), followed by the source of the information.\n",
      "\n",
      "# Steps\n",
      "\n",
      "1. Carefully read and understand the context provided.\n",
      "2. Identify the key information related to the question within the context.\n",
      "3. Formulate a concise answer based on the relevant information.\n",
      "4. Ensure your final answer directly addresses the question.\n",
      "5. List the source of the answer in bullet points, which must be a file name (with a page number) or URL from the context. Omit if the answer is based on previous conversation or if the source cannot be found.\n",
      "\n",
      "# Output Format:\n",
      "[Your final answer here, with numerical values, technical terms, jargon, and names in their original language]\n",
      "\n",
      "**Source**(Optional)\n",
      "- (Source of the answer, must be a file name(with a page number) or URL from the context. Omit if the answer is based on previous conversation or can't find the source.)\n",
      "- (list more if there are multiple sources)\n",
      "- ...\n",
      "\n",
      "###\n",
      "\n",
      "Remember:\n",
      "- It's crucial to base your answer solely on the **provided context** or **chat history**. \n",
      "- DO NOT use any external knowledge or information not present in the given materials.\n",
      "- If a user asks based on the previous conversation, but if there's no previous conversation or not enough information, you should answer that you don't know.\n",
      "\n",
      "###\n",
      "\n",
      "# Here is the user's question:\n",
      "\u001b[33;1m\u001b[1;3m{question}\u001b[0m\n",
      "\n",
      "# Here is the context that you should use to answer the question:\n",
      "\u001b[33;1m\u001b[1;3m{context}\u001b[0m\n",
      "\n",
      "# Your final answer to the user's question:\n",
      "\n"
     ]
    }
   ],
   "source": [
    "prompt.pretty_print()"
   ]
  },
  {
   "cell_type": "code",
   "execution_count": null,
   "metadata": {},
   "outputs": [],
   "source": [
    "from langchain_community.chat_message_histories import ChatMessageHistory\n",
    "from langchain_core.runnables.history import RunnableWithMessageHistory\n",
    "\n",
    "# 세션 기록을 저장할 딕셔너리\n",
    "store = {}\n",
    "\n",
    "# 세션 ID를 기반으로 세션 기록을 가져오는 함수\n",
    "def get_session_history(session_ids):\n",
    "    print(f\"[대화 세션ID]: {session_ids}\")\n",
    "    if session_ids not in store:  # 세션 ID가 store에 없는 경우\n",
    "        # 새로운 ChatMessageHistory 객체를 생성하여 store에 저장\n",
    "        store[session_ids] = ChatMessageHistory()\n",
    "    return store[session_ids]  # 해당 세션 ID에 대한 세션 기록 반환\n",
    "\n",
    "# 대화를 기록하는 RAG 체인 생성\n",
    "rag_with_history = RunnableWithMessageHistory(\n",
    "    pdf_chain,\n",
    "    get_session_history,  # 세션 기록을 가져오는 함수\n",
    "    input_messages_key=\"question\",  # 사용자의 질문이 템플릿 변수에 들어갈 key\n",
    "    history_messages_key=\"chat_history\",  # 기록 메시지의 키\n",
    ")"
   ]
  },
  {
   "cell_type": "code",
   "execution_count": null,
   "metadata": {},
   "outputs": [
    {
     "name": "stdout",
     "output_type": "stream",
     "text": [
      "[대화 세션ID]: rag123\n"
     ]
    },
    {
     "data": {
      "text/plain": [
       "'당신의 만세도(Ba Zi) 차트에서 천간(Heavenly Stems)과 지지(Earthly Branches) 간의 균형은 성격과 인생 경로에 큰 영향을 미칩니다. 균형이 맞지 않으면, 예를 들어 모든 요소가 음(陰)으로만 구성되어 있거나 특정 요소만 존재하면 사고가 충돌하고 삶이 힘들어질 수 있습니다. 지지는 천을 실현하는 것으로, 각 지지가 하나 또는 여러 개의 숨겨진 천간을 포함할 수 있어 이들이 개인의 심리가 형성되는 데 기여합니다. 따라서 천간과 지지 간의 관계를 이해하는 것이 중요합니다.\\n\\n**Source**\\n- data/The-Four-Pillars-of-Destiny-Understanding-Character-Relationships-and-Potential-through-Chinese-Astrology.md (Page 내용을 종합하여 작성하였습니다.)'"
      ]
     },
     "metadata": {},
     "output_type": "display_data"
    }
   ],
   "source": [
    "question = \"How does the balance between the Heavenly Stems and Earthly Branches in my Ba Zi chart affect my personality and life path? 한국어로 답해주세요\"\n",
    "rag_with_history.invoke({\"question\": question, \"context\":retriever.invoke(question)}, config={\"configurable\": {\"session_id\": \"rag123\"}},)\n"
   ]
  },
  {
   "cell_type": "code",
   "execution_count": null,
   "metadata": {},
   "outputs": [
    {
     "name": "stdout",
     "output_type": "stream",
     "text": [
      "[대화 세션ID]: rag123\n"
     ]
    },
    {
     "data": {
      "text/plain": [
       "'당신의 이전 질문은 \"How does the balance between the Heavenly Stems and Earthly Branches in my Ba Zi chart affect my personality and life path?\"입니다.\\n\\n**Source**\\n- (없음)'"
      ]
     },
     "metadata": {},
     "output_type": "display_data"
    }
   ],
   "source": [
    "question = \"나의 이전 질문이 뭐였지?\"\n",
    "rag_with_history.invoke({\"question\": question, \"context\":retriever.invoke(question)}, config={\"configurable\": {\"session_id\": \"rag123\"}},)"
   ]
  },
  {
   "cell_type": "markdown",
   "metadata": {},
   "source": [
    "### 문서관련성 평가"
   ]
  },
  {
   "cell_type": "code",
   "execution_count": 7,
   "metadata": {},
   "outputs": [],
   "source": [
    "from pydantic import BaseModel, Field\n",
    "from langchain_core.prompts import ChatPromptTemplate\n",
    "\n",
    "class GradeDocuments(BaseModel):\n",
    "    \"\"\"\n",
    "    A binary score to determine relevance of the retrieved document.\n",
    "    \"\"\"\n",
    "    binary_score: str = Field(\n",
    "        description=\"Documents are relevant to the question, 'yes', or 'no'\"\n",
    "    )\n",
    "\n",
    "llm = ChatOpenAI(model=\"gpt-4o-mini\")\n",
    "\n",
    "structured_llm_grader = llm.with_structured_output(GradeDocuments)\n",
    "\n",
    "system = \"\"\"You are a grader assessing relevance of a retrieved document to a user question. \\n \n",
    "    If the document contains keyword(s) or semantic meaning related to the question, grade it as relevant. \\n\n",
    "    Give a binary score 'yes' or 'no' score to indicate whether the document is relevant to the question.\"\"\"\n",
    "\n",
    "grade_prompt = ChatPromptTemplate.from_messages(\n",
    "    [\n",
    "        (\"system\", system),\n",
    "        (\"human\", \"Retrieved documents: \\n\\n{document} \\n\\n User Question: {question}\")\n",
    "    ]\n",
    ")\n",
    "\n",
    "retriever_grader = grade_prompt | structured_llm_grader"
   ]
  },
  {
   "cell_type": "code",
   "execution_count": 8,
   "metadata": {},
   "outputs": [],
   "source": [
    "# 질문 정의\n",
    "question = \"How does the balance between the Heavenly Stems and Earthly Branches in my Ba Zi chart affect my personality and life path?\"\n",
    "\n",
    "# 문서 검색\n",
    "docs = retriever.invoke(question)"
   ]
  },
  {
   "cell_type": "code",
   "execution_count": 9,
   "metadata": {},
   "outputs": [
    {
     "data": {
      "text/plain": [
       "{'source': 'data/The-Four-Pillars-of-Destiny-Understanding-Character-Relationships-and-Potential-through-Chinese-Astrology.md'}"
      ]
     },
     "execution_count": 9,
     "metadata": {},
     "output_type": "execute_result"
    }
   ],
   "source": [
    "docs[0].metadata"
   ]
  },
  {
   "cell_type": "code",
   "execution_count": 10,
   "metadata": {},
   "outputs": [
    {
     "name": "stdout",
     "output_type": "stream",
     "text": [
      "[1] binary_score='yes'\n",
      "[2] binary_score='yes'\n",
      "[3] binary_score='yes'\n",
      "[4] binary_score='yes'\n",
      "[5] binary_score='yes'\n",
      "[6] binary_score='no'\n",
      "[7] binary_score='yes'\n",
      "[8] binary_score='yes'\n",
      "[9] binary_score='no'\n",
      "[10] binary_score='no'\n"
     ]
    }
   ],
   "source": [
    "for i, doc in enumerate(docs, 1):\n",
    "    result = retriever_grader.invoke({\n",
    "        \"question\": question,\n",
    "        \"document\": doc.page_content\n",
    "    })\n",
    "    print(f\"[{i}] {result}\")"
   ]
  },
  {
   "cell_type": "markdown",
   "metadata": {},
   "source": [
    "### 답변 생성 체인"
   ]
  },
  {
   "cell_type": "code",
   "execution_count": 11,
   "metadata": {},
   "outputs": [],
   "source": [
    "from langchain import hub\n",
    "from langchain_core.output_parsers import StrOutputParser\n",
    "from langchain_openai import ChatOpenAI\n",
    "from langchain_core.prompts import load_prompt\n",
    "\n",
    "# LangChain Hub에서 RAG 프롬프트를 가져와 사용\n",
    "# prompt = hub.pull(\"teddynote/rag-prompt\")\n",
    "prompt = load_prompt(\"../prompt/rag_chain.yaml\")\n",
    "llm = ChatOpenAI(model=\"gpt-4o-mini\")\n",
    "\n",
    "def format_docs(docs):\n",
    "    return \"\\n\\n\".join(\n",
    "        [\n",
    "            #f'<document><content>{doc.page_content}</content><source>{doc.metadata[\"source\"]}</source><page>{doc.metadata[\"page\"]+1}</page></document>'\n",
    "            f'<document><content>{doc.page_content}</content><source>{doc.metadata[\"source\"]}</source></document>'\n",
    "            for doc in docs\n",
    "        ]\n",
    "    )\n",
    "    \n",
    "rag_chain = prompt | llm | StrOutputParser()"
   ]
  },
  {
   "cell_type": "code",
   "execution_count": 12,
   "metadata": {},
   "outputs": [
    {
     "name": "stdout",
     "output_type": "stream",
     "text": [
      "당신의 Ba Zi 차트에서 천간(Heavenly Stems)과 지지(Earthly Branches) 간의 균형은 성격과 인생 경로에 중요한 영향을 미칩니다. 천간은 타고난 특성과 성격을 나타내며, 지지는 세상과의 상호작용을 반영합니다. 불균형한 천간만으로 성격이 혼란스러울 수 있고, 이는 생의 어려움을 초래할 수 있습니다. 예를 들어, 모든 요소가 음(阴)인 경우, 사고방식에서 갈등이 생길 수 있습니다. 따라서 두 요소의 조화는 당신의 정체성과 인생의 방향을 결정짓는 중요한 역할을 합니다.\n",
      "\n",
      "**Source**\n",
      "- data/The-Four-Pillars-of-Destiny-Understanding-Character-Relationships-and-Potential-through-Chinese-Astrology.md\n"
     ]
    }
   ],
   "source": [
    "# CRAG에서는 개별평가를 한다.\n",
    "question = \"How does the balance between the Heavenly Stems and Earthly Branches in my Ba Zi chart affect my personality and life path? 한국어로 답해주세요\"\n",
    "generation = rag_chain.invoke({\"context\": format_docs(retriever.invoke(question)), \"question\": question})\n",
    "print(generation)"
   ]
  },
  {
   "cell_type": "code",
   "execution_count": null,
   "metadata": {},
   "outputs": [],
   "source": []
  },
  {
   "cell_type": "markdown",
   "metadata": {},
   "source": [
    "### 쿼리 재작성(Question Re-writer)"
   ]
  },
  {
   "cell_type": "code",
   "execution_count": 13,
   "metadata": {},
   "outputs": [],
   "source": [
    "from langchain_core.prompts import ChatPromptTemplate\n",
    "from langchain_core.output_parsers import StrOutputParser\n",
    "from langchain_openai import ChatOpenAI\n",
    "\n",
    "llm = ChatOpenAI(model=\"gpt-4o-mini\")\n",
    "\n",
    "# Query Rewrite 시스템 프롬프트\n",
    "system = \"\"\"\n",
    "You are a question rewriter specialized in Four Pillars of Destiny (사주팔자, Saju) analysis. \n",
    "Your job is to convert a user's vague or informal question into a well-structured and contextually clear query suitable for knowledge retrieval or reasoning based on Saju principles.\n",
    "\n",
    "You must:\n",
    "- Clarify ambiguous expressions (e.g. \"운이 좋을까?\" → \"Based on the user's Saju, is there good fortune in this year?\")\n",
    "- Include necessary details if missing, such as \"birth year, month, day, and time\" if implied or inferable\n",
    "- Ensure the rewritten question is answerable using Saju logic (e.g. 천간/지지, 오행, 대운, 세운, 용신 등)\n",
    "- Do **not** invent personal details. Only elaborate if the user's intent is logically implied.\n",
    "- \n",
    "\n",
    "Input: a natural language question(Korean-language)\n",
    "Output: a precise, Saju-context-aware question that elicits a Korean-language response\n",
    "\n",
    "\"\"\"\n",
    "\n",
    "re_write_prompt = ChatPromptTemplate.from_messages(\n",
    "    [\n",
    "        (\"system\", system),\n",
    "        (\"human\",\n",
    "         \"Here is the initial question: \\n {question} \\n\\n Formulate an improved question.\"),\n",
    "    ]\n",
    ")\n",
    "\n",
    "question_rewriter = re_write_prompt | llm | StrOutputParser()"
   ]
  },
  {
   "cell_type": "code",
   "execution_count": 14,
   "metadata": {},
   "outputs": [
    {
     "data": {
      "text/plain": [
       "'내 사주팔자에서 천간과 지지의 균형이 내 성격과 삶의 경로에 어떤 영향을 미치는지 분석해 주실 수 있나요?'"
      ]
     },
     "execution_count": 14,
     "metadata": {},
     "output_type": "execute_result"
    }
   ],
   "source": [
    "question = \"How does the balance between the Heavenly Stems and Earthly Branches in my Ba Zi chart affect my personality and life path? 한국어로 답해주세요\"\n",
    "question_rewriter.invoke({\"question\": question})"
   ]
  },
  {
   "cell_type": "markdown",
   "metadata": {},
   "source": [
    "### 웹 검색 도구"
   ]
  },
  {
   "cell_type": "code",
   "execution_count": 15,
   "metadata": {},
   "outputs": [],
   "source": [
    "from langchain.tools.tavily_search import TavilySearchResults\n",
    "\n",
    "web_search_tool = TavilySearchResults()"
   ]
  },
  {
   "cell_type": "code",
   "execution_count": 16,
   "metadata": {},
   "outputs": [
    {
     "name": "stdout",
     "output_type": "stream",
     "text": [
      "[{'title': '노벨 문학상 수상자 목록 - 위키백과, 우리 모두의 백과사전', 'url': 'https://ko.wikipedia.org/wiki/%EB%85%B8%EB%B2%A8_%EB%AC%B8%ED%95%99%EC%83%81_%EC%88%98%EC%83%81%EC%9E%90_%EB%AA%A9%EB%A1%9D', 'content': '2024년 현재, 노벨 문학상은 121명의 개인에게 수여되었다.[5] 18명의 여성이 노벨 문학상을 수상했는데, 이는 노벨 평화상 다음으로 많은 수치이다.[6][7] 2024년 기준으로 영어권 노벨 문학상 수상자는 29명이며, 그 뒤를 이어 프랑스어권 16명, 독일어권 14명의 수상자가 있다. 프랑스는 가장 많은 노벨 문학상 수상자를 배출한 국가이다.\\n연대별 수상자\\n[편집]\\n1900년대\\n[편집]\\n| 연도 | 수상자 | 나라 | 언어 | 장르 | 대표작과 수상 이유 |\\n| --- | --- | --- | --- | --- | --- |\\n| 1901 |  | 쉴리 프뤼돔 |  프랑스 | 프랑스어 | 시 | 구절과 시\\n\"고상한 이상주의의 증거를 주는, 그의 낭만적인 기질과 예술적인 완전함 그리고 감성과 지성의 보기 드문 결합을 특별히 인정하여 이 상을 드립니다.\"[8] |\\n| 1902 |  | 테오도어 몸젠 |  독일 제국 | 독일어 | 역사 | 로마의 역사 [...] 1901년부터 2024년까지 121명의 노벨 문학상 수상자들의 출신 국가는 다음과 같다.\\n| 국가 | 수상자 수 |\\n| --- | --- |\\n|  프랑스 | 16 |\\n|  미국 | 13 |\\n|  영국 | 13 |\\n|  독일 | 9 |\\n|  스웨덴 | 8 |\\n|  스페인 | 6 |\\n|  이탈리아 | 6 |\\n|  폴란드 | 6 |\\n|  러시아\\n 소련 | 5 |\\n|  노르웨이 | 4 |\\n|  아일랜드 | 4 |\\n|  덴마크 | 3 |\\n|  그리스 | 2 |\\n|  남아프리카공화국 | 2 |\\n|  스위스 | 2 |\\n|  오스트리아 | 2 |\\n|  일본 | 2 |\\n|  중국 | 2 |\\n|  칠레 | 2 |\\n|  과테말라 | 1 |\\n|  나이지리아 | 1 |\\n|  대한민국 | 1 |\\n|  루마니아 | 1 |\\n|  멕시코 | 1 |\\n|  모리셔스 | 1 |\\n|  벨기에 | 1 |\\n|  벨라루스 | 1 |\\n|  불가리아 | 1 |\\n|  세인트루시아 | 1 |\\n|  아이슬란드 | 1 | [...] 2001: 나이폴\\n2002: 임레\\n2003: 쿳시\\n2004: 옐리네크\\n2005: 핀터\\n2006: 파무크\\n2007: 레싱\\n2008: 르클레지오\\n2009: 뮐러\\n2010: 요사\\n2011: 트란스트뢰메르\\n2012: 모옌\\n2013: 먼로\\n2014: 모디아노\\n2015: 알렉시예비치\\n2016: 딜런\\n2017: 이시구로\\n2018: 토카르추크\\n2019: 한트케\\n2020: 글릭\\n2021: 구르나\\n2022: 에르노\\n2023: 포세\\n2024: 한강\\n\\n|\\n원본 주소 \"https://ko.wikipedia.org/w/index.php?title=노벨_문학상_수상자_목록&oldid=38605670\"\\n분류:\\n\\n노벨 문학상 수상자\\n노벨상 수상자 목록\\n문학에 관한 목록\\n\\n숨은 분류:\\n\\n해결되지 않은 속성이 있는 문서\\nCS1 - 미국 영어 인용 (en)\\n위키데이터 속성 P373을 사용하는 문서\\n위키데이터 속성 P7859를 사용하는 문서\\n\\n스웨덴어 표기를 포함한 문서', 'score': 0.9589434}, {'title': '한강(소설가)/노벨문학상 수상 - 나무위키', 'url': 'https://namu.wiki/w/%ED%95%9C%EA%B0%95(%EC%86%8C%EC%84%A4%EA%B0%80)/%EB%85%B8%EB%B2%A8%EB%AC%B8%ED%95%99%EC%83%81%20%EC%88%98%EC%83%81', 'content': '2024년 노벨문학상 수상자는 한국의 작가, 한강입니다. 마츠 말름(Mats Malm) ... 역대 수상자 관련 기사 비단 노벨문학상까지 가지 않더라도 2024년 노벨상 수상자', 'score': 0.9401831}, {'title': '파격만이 가득한 2024 노벨상 수상을 돌아보며 - 포항공대신문', 'url': 'https://times.postech.ac.kr/news/articleView.html?idxno=23342', 'content': '▲노벨 문학상 수상자인 소설가 한강의 책을 시민들이 고르고 있다(출처: 한겨레21)\\n지난 7일부터 14일까지 2024 노벨상 수상자가 발표됐다. 특히 이번 노벨문학상 수상자로 우리나라의 한강 작가가 선정되며 큰 화제가 된 가운데, 우리대학 학생들의 Nobel Week 파견을 앞두고 수상 내용을 돌아본다.\\n생리의학상: miRNA의 발견과 작동 원리의 규명\\n의학 분야에서 중요한 발견을 한 사람에게 수여되는 생리의학상은 올해 메사추세츠 의대 빅터 앰브로스 교수와 하버드 의대의 게리 러브컨 교수가 수상했다. 이들은 마이크로 RNA(이하 miRNA)를 처음 발견하고 어떻게 동작하는지를 규명한 공로를 인정받았다. 특히 miRNA는 다른 유전자를 조절하는 기능을 하며, △유전병 △암 △DNA 복구 등과 관련해 복합적인 작용을 한다는 사실이 알려지며 그 중요성이 대두되고 있다.\\n물리학상: 인공신경망을 통한 머신러닝 기법', 'score': 0.9332426}, {'title': \"2024년 노벨문학상에 한국의 '채식주의자' 작가 한강 수상자 선정\", 'url': 'http://www.nobelscience.net/news/articleView.html?idxno=2189', 'content': '올해\\xa0노벨문학상\\xa0수상자가\\xa0우리나라\\xa0소설가,\\xa0한강(53)으로\\xa0결정됐다.\\xa0이는\\xa0한국\\xa0첫\\xa0노벨문학상의\\xa0쾌거이자,\\xa0한국인으로서\\xa0지난\\xa02000년\\xa0노벨평화상을\\xa0탄\\xa0고\\xa0김대중\\xa0전\\xa0대통령에\\xa0이어\\xa0두\\xa0번째다.\\xa024년\\xa0만의\\xa0일이다.\\xa0\\xa0노벨위원회는\\xa0“역사적\\xa0트라우마에\\xa0맞서고\\xa0인간\\xa0삶의\\xa0연약함을\\xa0드러내는\\xa0강렬한\\xa0시적\\xa0산문을\\xa0쓴\\xa0작가”라고\\xa0노벨문학상\\xa0선정\\xa0이유를\\xa0밝혔다.\\xa0한강의\\xa0이번\\xa0노벨문학상\\xa0수상은\\xa0점점\\xa0커지고\\xa0있는\\xa0한국\\xa0문화의\\xa0세계적\\xa0영향력을\\xa0반영하고\\xa0있다는\\xa0평가가\\xa0나온다.\\n한강,\\xa0한국\\xa0문학의\\xa0새\\xa0역사를\\xa0쓰다 [...] 소설가\\xa0한강의\\xa0한국인\\xa0작가\\xa0최초\\xa0노벨문학상\\xa0수상은\\xa0최근\\xa0몇\\xa0년간\\xa0국제적\\xa0명성을\\xa0쌓기\\xa0시작한\\xa0한국문학이\\xa0이룩한\\xa0쾌거로\\xa0평가받고\\xa0있다.(노벨위원회)\\n스웨덴\\xa0카롤린스카\\xa0연구소\\xa0노벨위원회는\\xa02024년\\xa0노벨문학상에\\xa0한국\\xa0소설가\\xa0한강(53)을\\xa0선정했다.\\xa0한국인의\\xa0노벨상\\xa0수상은\\xa0지난\\xa02000년\\xa0평화상을\\xa0탄\\xa0고(故)\\xa0김대중\\xa0전\\xa0대통령에\\xa0이어\\xa0이번이\\xa0두\\xa0번째다.\\xa0여성으로는\\xa0공동\\xa0수상자를\\xa0포함해\\xa0역대\\xa0121명\\xa0가운데\\xa018번째다.\\n노벨위원회는\\xa0“역사적\\xa0트라우마에\\xa0맞서고\\xa0인간의\\xa0삶의\\xa0연약함을\\xa0드러낸\\xa0강렬한\\xa0시적\\xa0산문”이라며\\xa0노벨문학상\\xa0선정\\xa0이유를\\xa0밝혔다.\\xa0노벨위원회는\\xa0또\\xa0“한강은\\xa0자신의\\xa0작품에서\\xa0역사적\\xa0트라우마와\\xa0보이지\\xa0않는\\xa0지배에\\xa0정면으로\\xa0맞서며\\xa0인간의\\xa0삶의\\xa0연약함을\\xa0드러낸다”며\\xa0“그는\\xa0육체와\\xa0영혼,\\xa0산\\xa0자와\\xa0죽은자\\xa0간의\\xa0연결에\\xa0대해\\xa0독특한\\xa0인식을\\xa0지니며,\\xa0시적이고\\xa0실험적인\\xa0문체로\\xa0현대\\xa0산문의\\xa0혁신가가\\xa0됐다”고\\xa0강조했다. [...] 그녀의\\xa0작품에서\\xa0한강은\\xa0역사적\\xa0트라우마와\\xa0보이지\\xa0않는\\xa0규칙에\\xa0맞서고,\\xa0그녀의\\xa0모든\\xa0작품에서\\xa0인간\\xa0삶의\\xa0취약성을\\xa0폭로한다.\\xa0그녀는\\xa0육체와\\xa0영혼,\\xa0산\\xa0자와\\xa0죽은\\xa0자의\\xa0연결에\\xa0대한\\xa0독특한\\xa0인식을\\xa0갖고\\xa0있으며\\xa0시적이고\\xa0실험적인\\xa0스타일로\\xa0현대\\xa0산문의\\xa0혁신가가\\xa0되었다.\\n스웨덴\\xa0노벨위원회\\xa0발표\\xa0원문\\nThe\\xa0Nobel\\xa0Prize\\xa0in\\xa0Literature\\xa02024\\xa0Han\\xa0Kang\\nThe\\xa0Nobel\\xa0Prize\\xa0in\\xa0Literature\\xa0for\\xa02024\\xa0is\\xa0awarded\\xa0to\\xa0the\\xa0South\\xa0Korean\\xa0author\\xa0Han\\xa0Kang,\\xa0“for\\xa0her\\xa0intense\\xa0poetic\\xa0prose\\xa0that\\xa0confronts\\xa0historical\\xa0traumas\\xa0and\\xa0exposes\\xa0the\\xa0fragility\\xa0of\\xa0human\\xa0life”.\\n한강(Han\\xa0Kang)\\n2024년\\xa0노벨문학상은\\xa0“역사적\\xa0트라우마에\\xa0맞서고\\xa0인간\\xa0삶의\\xa0취약성을\\xa0폭로하는\\xa0강렬한\\xa0시적\\xa0산문으로\\xa0자기를\\xa0나타낸\\xa0한국의\\xa0작가\\xa0한강에게\\xa0수여합니다.”', 'score': 0.9202254}, {'title': '2024년 노벨 문학상 수상자, 한강의 문장들 - 보그 코리아 (Vogue Korea)', 'url': 'https://www.vogue.co.kr/2024/10/11/2024%EB%85%84-%EB%85%B8%EB%B2%A8-%EB%AC%B8%ED%95%99%EC%83%81-%EC%88%98%EC%83%81%EC%9E%90-%ED%95%9C%EA%B0%95%EC%9D%98-%EB%AC%B8%EC%9E%A5%EB%93%A4/', 'content': '한강이 2024년 노벨 문학상을 수상했습니다. 프랑스 <보그>는 이를 두고 ‘한강의 승리’라 표현했을 정도로 그녀의 수상이 해외에서도 주목받고 있죠. 아시아 여성 문학가로서는 최초의 수상이라는 점과 역사 속 개인의 삶을 포착해내는 특유의 세계관에 주목해서입니다. 그러나 스웨덴 한림원은 ‘문장의 힘’을 여러 차례 이야기했습니다. 안데르스 올손(Anders Olsson) 노벨 문학상 위원회 위원장은 “한강은 육체와 영혼, 산 자와 죽은 자 사이 연결 고리에 관한 독특한 인식을 시적이고 실험적인 현대 산문으로 표현한 혁신가로 평가됩니다”라며 수여 이유를 설명했습니다. 그러면서 “한강은 자신의 작품에서 역사적 트라우마와 보이지 않는 지배에 맞서는 인간 삶의 연약함을 드러냈다”라며 “그 은유를 통해 강렬한 시적 산문을 보여줬다”라고 말했죠. 스웨덴 아카데미 회원인 안나 카림 팔름(Anna Karim-Palm) 또한 “그의 산문은 매우 강렬하면서도 서정적이고 부드러우면서도 잔인하다”고 평하며 [...] 아트\\n\\n2024년 노벨 문학상 수상자, 한강의 문장들\\n\\n2024.10.11 황혜원\\n\\n아트\\n\\n2024년 노벨 문학상 수상자, 한강의 문장들\\n\\n2024.10.11\\n\\n‘역사적 트라우마에 맞서고 인간 삶의 연약함을 폭로하는 강렬한 시적 산문’ [...] 젊은 소설가의 빛나는 세계\\n\\n2017.03.15by VOGUE\\n\\nSNS 공유하기\\n\\nX\\n\\nFacebook\\n\\nVOGUE.CO.KR IS OPERATED BY DOOSAN MAGAZINE', 'score': 0.89545894}]\n"
     ]
    }
   ],
   "source": [
    "question = \"2024년 노벨문학상 수상자는?\"\n",
    "results = web_search_tool.invoke({\"query\": question})\n",
    "print(results)"
   ]
  },
  {
   "cell_type": "markdown",
   "metadata": {},
   "source": [
    "# 상태 정의"
   ]
  },
  {
   "cell_type": "code",
   "execution_count": 17,
   "metadata": {},
   "outputs": [],
   "source": [
    "from typing import Annotated, TypedDict\n",
    "\n",
    "class GraphState(TypedDict):\n",
    "    question: Annotated[str, \"The question to answer\"]\n",
    "    generation: Annotated[str, \"The generation from the LLM\"]\n",
    "    web_search: Annotated[str, \"Whether to add search\"]\n",
    "    documents: Annotated[list[str], \"The documents retrieved\"]"
   ]
  },
  {
   "cell_type": "markdown",
   "metadata": {},
   "source": [
    "# 노드"
   ]
  },
  {
   "cell_type": "code",
   "execution_count": 18,
   "metadata": {},
   "outputs": [],
   "source": [
    "# 문서 검색 노드\n",
    "def retrieve(state: GraphState):\n",
    "    print(\"\\n=== Retrieve ===\\n\")\n",
    "    \n",
    "    question = state[\"question\"]\n",
    "    documents = retriever.invoke(question)\n",
    "    return {\"documents\": documents}"
   ]
  },
  {
   "cell_type": "code",
   "execution_count": 19,
   "metadata": {},
   "outputs": [],
   "source": [
    "# 답변 생성 노드\n",
    "def generate(state: GraphState):\n",
    "    print(\"\\n=== Generation ===\\n\")\n",
    "\n",
    "    question = state[\"question\"]\n",
    "    documents = state[\"documents\"]\n",
    "\n",
    "    generation = rag_chain.invoke({\"context\": documents, \"question\": question})\n",
    "    return {\"generation\": generation}"
   ]
  },
  {
   "cell_type": "code",
   "execution_count": 20,
   "metadata": {},
   "outputs": [],
   "source": [
    "# 문서 평가 노드\n",
    "def grade_documents(state: GraphState):\n",
    "    print(\"\\n=== Check Document Relevance to Question ===\\n\")\n",
    "    \n",
    "    question = state[\"question\"]\n",
    "    documents = state[\"documents\"]\n",
    "\n",
    "    filtered_docs = []\n",
    "    relevance_doc_count = 0\n",
    "\n",
    "    for d in documents:\n",
    "        score = retriever_grader.invoke(\n",
    "            {\"question\": question, \"document\": d.page_content} # documents가 아니다. documents에서 내용만 뽑아낸 docyment르 받은것이다. retriever_grader prompt에도 그렇게 설정했다.\n",
    "        )\n",
    "        grade = score.binary_score\n",
    "\n",
    "        if grade == \"yes\":\n",
    "            print(\"\\n=== Grade: Document Relevant ===\\n\")\n",
    "            \n",
    "            filtered_docs.append(d)\n",
    "            relevance_doc_count += 1\n",
    "        else:\n",
    "            print(\"\\n=== Grade: Document Not Relevant ===\\n\")\n",
    "            continue\n",
    "\n",
    "    # 관련 문서가 없으면 웹검색 수행: relevance_doc_count == 0이면 web_search가 Yes고 그게 아니라면 no로 반환.\n",
    "    web_search = \"Yes\" if relevance_doc_count == 0 else \"No\"\n",
    "    return {\"documents\": filtered_docs, \"web_search\": web_search}"
   ]
  },
  {
   "cell_type": "code",
   "execution_count": 21,
   "metadata": {},
   "outputs": [],
   "source": [
    "# 쿼리 재작성\n",
    "def query_rewrite(state: GraphState):\n",
    "    print(question)\n",
    "    print(\"\\n=== Query Rewrite ===\\n\")\n",
    "\n",
    "    question = state[\"question\"]\n",
    "    \n",
    "    better_question = question_rewriter.invoke({\"question\": question})\n",
    "    return {\"question\": better_question}"
   ]
  },
  {
   "cell_type": "code",
   "execution_count": 22,
   "metadata": {},
   "outputs": [
    {
     "data": {
      "text/plain": [
       "[{'title': '노벨 문학상 수상자 목록 - 위키백과, 우리 모두의 백과사전',\n",
       "  'url': 'https://ko.wikipedia.org/wiki/%EB%85%B8%EB%B2%A8_%EB%AC%B8%ED%95%99%EC%83%81_%EC%88%98%EC%83%81%EC%9E%90_%EB%AA%A9%EB%A1%9D',\n",
       "  'content': '2024년 현재, 노벨 문학상은 121명의 개인에게 수여되었다.[5] 18명의 여성이 노벨 문학상을 수상했는데, 이는 노벨 평화상 다음으로 많은 수치이다.[6][7] 2024년 기준으로 영어권 노벨 문학상 수상자는 29명이며, 그 뒤를 이어 프랑스어권 16명, 독일어권 14명의 수상자가 있다. 프랑스는 가장 많은 노벨 문학상 수상자를 배출한 국가이다.\\n연대별 수상자\\n[편집]\\n1900년대\\n[편집]\\n| 연도 | 수상자 | 나라 | 언어 | 장르 | 대표작과 수상 이유 |\\n| --- | --- | --- | --- | --- | --- |\\n| 1901 |  | 쉴리 프뤼돔 |  프랑스 | 프랑스어 | 시 | 구절과 시\\n\"고상한 이상주의의 증거를 주는, 그의 낭만적인 기질과 예술적인 완전함 그리고 감성과 지성의 보기 드문 결합을 특별히 인정하여 이 상을 드립니다.\"[8] |\\n| 1902 |  | 테오도어 몸젠 |  독일 제국 | 독일어 | 역사 | 로마의 역사 [...] 1901년부터 2024년까지 121명의 노벨 문학상 수상자들의 출신 국가는 다음과 같다.\\n| 국가 | 수상자 수 |\\n| --- | --- |\\n|  프랑스 | 16 |\\n|  미국 | 13 |\\n|  영국 | 13 |\\n|  독일 | 9 |\\n|  스웨덴 | 8 |\\n|  스페인 | 6 |\\n|  이탈리아 | 6 |\\n|  폴란드 | 6 |\\n|  러시아\\n 소련 | 5 |\\n|  노르웨이 | 4 |\\n|  아일랜드 | 4 |\\n|  덴마크 | 3 |\\n|  그리스 | 2 |\\n|  남아프리카공화국 | 2 |\\n|  스위스 | 2 |\\n|  오스트리아 | 2 |\\n|  일본 | 2 |\\n|  중국 | 2 |\\n|  칠레 | 2 |\\n|  과테말라 | 1 |\\n|  나이지리아 | 1 |\\n|  대한민국 | 1 |\\n|  루마니아 | 1 |\\n|  멕시코 | 1 |\\n|  모리셔스 | 1 |\\n|  벨기에 | 1 |\\n|  벨라루스 | 1 |\\n|  불가리아 | 1 |\\n|  세인트루시아 | 1 |\\n|  아이슬란드 | 1 | [...] 2001: 나이폴\\n2002: 임레\\n2003: 쿳시\\n2004: 옐리네크\\n2005: 핀터\\n2006: 파무크\\n2007: 레싱\\n2008: 르클레지오\\n2009: 뮐러\\n2010: 요사\\n2011: 트란스트뢰메르\\n2012: 모옌\\n2013: 먼로\\n2014: 모디아노\\n2015: 알렉시예비치\\n2016: 딜런\\n2017: 이시구로\\n2018: 토카르추크\\n2019: 한트케\\n2020: 글릭\\n2021: 구르나\\n2022: 에르노\\n2023: 포세\\n2024: 한강\\n\\n|\\n원본 주소 \"https://ko.wikipedia.org/w/index.php?title=노벨_문학상_수상자_목록&oldid=38605670\"\\n분류:\\n\\n노벨 문학상 수상자\\n노벨상 수상자 목록\\n문학에 관한 목록\\n\\n숨은 분류:\\n\\n해결되지 않은 속성이 있는 문서\\nCS1 - 미국 영어 인용 (en)\\n위키데이터 속성 P373을 사용하는 문서\\n위키데이터 속성 P7859를 사용하는 문서\\n\\n스웨덴어 표기를 포함한 문서',\n",
       "  'score': 0.9589434},\n",
       " {'title': '한강(소설가)/노벨문학상 수상 - 나무위키',\n",
       "  'url': 'https://namu.wiki/w/%ED%95%9C%EA%B0%95(%EC%86%8C%EC%84%A4%EA%B0%80)/%EB%85%B8%EB%B2%A8%EB%AC%B8%ED%95%99%EC%83%81%20%EC%88%98%EC%83%81',\n",
       "  'content': '2024년 노벨문학상 수상자는 한국의 작가, 한강입니다. 마츠 말름(Mats Malm) ... 역대 수상자 관련 기사 비단 노벨문학상까지 가지 않더라도 2024년 노벨상 수상자',\n",
       "  'score': 0.9401831},\n",
       " {'title': '파격만이 가득한 2024 노벨상 수상을 돌아보며 - 포항공대신문',\n",
       "  'url': 'https://times.postech.ac.kr/news/articleView.html?idxno=23342',\n",
       "  'content': '▲노벨 문학상 수상자인 소설가 한강의 책을 시민들이 고르고 있다(출처: 한겨레21)\\n지난 7일부터 14일까지 2024 노벨상 수상자가 발표됐다. 특히 이번 노벨문학상 수상자로 우리나라의 한강 작가가 선정되며 큰 화제가 된 가운데, 우리대학 학생들의 Nobel Week 파견을 앞두고 수상 내용을 돌아본다.\\n생리의학상: miRNA의 발견과 작동 원리의 규명\\n의학 분야에서 중요한 발견을 한 사람에게 수여되는 생리의학상은 올해 메사추세츠 의대 빅터 앰브로스 교수와 하버드 의대의 게리 러브컨 교수가 수상했다. 이들은 마이크로 RNA(이하 miRNA)를 처음 발견하고 어떻게 동작하는지를 규명한 공로를 인정받았다. 특히 miRNA는 다른 유전자를 조절하는 기능을 하며, △유전병 △암 △DNA 복구 등과 관련해 복합적인 작용을 한다는 사실이 알려지며 그 중요성이 대두되고 있다.\\n물리학상: 인공신경망을 통한 머신러닝 기법',\n",
       "  'score': 0.9332426},\n",
       " {'title': \"2024년 노벨문학상에 한국의 '채식주의자' 작가 한강 수상자 선정\",\n",
       "  'url': 'http://www.nobelscience.net/news/articleView.html?idxno=2189',\n",
       "  'content': '올해\\xa0노벨문학상\\xa0수상자가\\xa0우리나라\\xa0소설가,\\xa0한강(53)으로\\xa0결정됐다.\\xa0이는\\xa0한국\\xa0첫\\xa0노벨문학상의\\xa0쾌거이자,\\xa0한국인으로서\\xa0지난\\xa02000년\\xa0노벨평화상을\\xa0탄\\xa0고\\xa0김대중\\xa0전\\xa0대통령에\\xa0이어\\xa0두\\xa0번째다.\\xa024년\\xa0만의\\xa0일이다.\\xa0\\xa0노벨위원회는\\xa0“역사적\\xa0트라우마에\\xa0맞서고\\xa0인간\\xa0삶의\\xa0연약함을\\xa0드러내는\\xa0강렬한\\xa0시적\\xa0산문을\\xa0쓴\\xa0작가”라고\\xa0노벨문학상\\xa0선정\\xa0이유를\\xa0밝혔다.\\xa0한강의\\xa0이번\\xa0노벨문학상\\xa0수상은\\xa0점점\\xa0커지고\\xa0있는\\xa0한국\\xa0문화의\\xa0세계적\\xa0영향력을\\xa0반영하고\\xa0있다는\\xa0평가가\\xa0나온다.\\n한강,\\xa0한국\\xa0문학의\\xa0새\\xa0역사를\\xa0쓰다 [...] 소설가\\xa0한강의\\xa0한국인\\xa0작가\\xa0최초\\xa0노벨문학상\\xa0수상은\\xa0최근\\xa0몇\\xa0년간\\xa0국제적\\xa0명성을\\xa0쌓기\\xa0시작한\\xa0한국문학이\\xa0이룩한\\xa0쾌거로\\xa0평가받고\\xa0있다.(노벨위원회)\\n스웨덴\\xa0카롤린스카\\xa0연구소\\xa0노벨위원회는\\xa02024년\\xa0노벨문학상에\\xa0한국\\xa0소설가\\xa0한강(53)을\\xa0선정했다.\\xa0한국인의\\xa0노벨상\\xa0수상은\\xa0지난\\xa02000년\\xa0평화상을\\xa0탄\\xa0고(故)\\xa0김대중\\xa0전\\xa0대통령에\\xa0이어\\xa0이번이\\xa0두\\xa0번째다.\\xa0여성으로는\\xa0공동\\xa0수상자를\\xa0포함해\\xa0역대\\xa0121명\\xa0가운데\\xa018번째다.\\n노벨위원회는\\xa0“역사적\\xa0트라우마에\\xa0맞서고\\xa0인간의\\xa0삶의\\xa0연약함을\\xa0드러낸\\xa0강렬한\\xa0시적\\xa0산문”이라며\\xa0노벨문학상\\xa0선정\\xa0이유를\\xa0밝혔다.\\xa0노벨위원회는\\xa0또\\xa0“한강은\\xa0자신의\\xa0작품에서\\xa0역사적\\xa0트라우마와\\xa0보이지\\xa0않는\\xa0지배에\\xa0정면으로\\xa0맞서며\\xa0인간의\\xa0삶의\\xa0연약함을\\xa0드러낸다”며\\xa0“그는\\xa0육체와\\xa0영혼,\\xa0산\\xa0자와\\xa0죽은자\\xa0간의\\xa0연결에\\xa0대해\\xa0독특한\\xa0인식을\\xa0지니며,\\xa0시적이고\\xa0실험적인\\xa0문체로\\xa0현대\\xa0산문의\\xa0혁신가가\\xa0됐다”고\\xa0강조했다. [...] 그녀의\\xa0작품에서\\xa0한강은\\xa0역사적\\xa0트라우마와\\xa0보이지\\xa0않는\\xa0규칙에\\xa0맞서고,\\xa0그녀의\\xa0모든\\xa0작품에서\\xa0인간\\xa0삶의\\xa0취약성을\\xa0폭로한다.\\xa0그녀는\\xa0육체와\\xa0영혼,\\xa0산\\xa0자와\\xa0죽은\\xa0자의\\xa0연결에\\xa0대한\\xa0독특한\\xa0인식을\\xa0갖고\\xa0있으며\\xa0시적이고\\xa0실험적인\\xa0스타일로\\xa0현대\\xa0산문의\\xa0혁신가가\\xa0되었다.\\n스웨덴\\xa0노벨위원회\\xa0발표\\xa0원문\\nThe\\xa0Nobel\\xa0Prize\\xa0in\\xa0Literature\\xa02024\\xa0Han\\xa0Kang\\nThe\\xa0Nobel\\xa0Prize\\xa0in\\xa0Literature\\xa0for\\xa02024\\xa0is\\xa0awarded\\xa0to\\xa0the\\xa0South\\xa0Korean\\xa0author\\xa0Han\\xa0Kang,\\xa0“for\\xa0her\\xa0intense\\xa0poetic\\xa0prose\\xa0that\\xa0confronts\\xa0historical\\xa0traumas\\xa0and\\xa0exposes\\xa0the\\xa0fragility\\xa0of\\xa0human\\xa0life”.\\n한강(Han\\xa0Kang)\\n2024년\\xa0노벨문학상은\\xa0“역사적\\xa0트라우마에\\xa0맞서고\\xa0인간\\xa0삶의\\xa0취약성을\\xa0폭로하는\\xa0강렬한\\xa0시적\\xa0산문으로\\xa0자기를\\xa0나타낸\\xa0한국의\\xa0작가\\xa0한강에게\\xa0수여합니다.”',\n",
       "  'score': 0.9202254},\n",
       " {'title': '2024년 노벨 문학상 수상자, 한강의 문장들 - 보그 코리아 (Vogue Korea)',\n",
       "  'url': 'https://www.vogue.co.kr/2024/10/11/2024%EB%85%84-%EB%85%B8%EB%B2%A8-%EB%AC%B8%ED%95%99%EC%83%81-%EC%88%98%EC%83%81%EC%9E%90-%ED%95%9C%EA%B0%95%EC%9D%98-%EB%AC%B8%EC%9E%A5%EB%93%A4/',\n",
       "  'content': '한강이 2024년 노벨 문학상을 수상했습니다. 프랑스 <보그>는 이를 두고 ‘한강의 승리’라 표현했을 정도로 그녀의 수상이 해외에서도 주목받고 있죠. 아시아 여성 문학가로서는 최초의 수상이라는 점과 역사 속 개인의 삶을 포착해내는 특유의 세계관에 주목해서입니다. 그러나 스웨덴 한림원은 ‘문장의 힘’을 여러 차례 이야기했습니다. 안데르스 올손(Anders Olsson) 노벨 문학상 위원회 위원장은 “한강은 육체와 영혼, 산 자와 죽은 자 사이 연결 고리에 관한 독특한 인식을 시적이고 실험적인 현대 산문으로 표현한 혁신가로 평가됩니다”라며 수여 이유를 설명했습니다. 그러면서 “한강은 자신의 작품에서 역사적 트라우마와 보이지 않는 지배에 맞서는 인간 삶의 연약함을 드러냈다”라며 “그 은유를 통해 강렬한 시적 산문을 보여줬다”라고 말했죠. 스웨덴 아카데미 회원인 안나 카림 팔름(Anna Karim-Palm) 또한 “그의 산문은 매우 강렬하면서도 서정적이고 부드러우면서도 잔인하다”고 평하며 [...] 아트\\n\\n2024년 노벨 문학상 수상자, 한강의 문장들\\n\\n2024.10.11 황혜원\\n\\n아트\\n\\n2024년 노벨 문학상 수상자, 한강의 문장들\\n\\n2024.10.11\\n\\n‘역사적 트라우마에 맞서고 인간 삶의 연약함을 폭로하는 강렬한 시적 산문’ [...] 젊은 소설가의 빛나는 세계\\n\\n2017.03.15by VOGUE\\n\\nSNS 공유하기\\n\\nX\\n\\nFacebook\\n\\nVOGUE.CO.KR IS OPERATED BY DOOSAN MAGAZINE',\n",
       "  'score': 0.89545894}]"
      ]
     },
     "execution_count": 22,
     "metadata": {},
     "output_type": "execute_result"
    }
   ],
   "source": [
    "web_search_tool.invoke({\"query\": question})"
   ]
  },
  {
   "cell_type": "code",
   "execution_count": 23,
   "metadata": {},
   "outputs": [],
   "source": [
    "from langchain_core.documents import Document\n",
    "# 웹 검색 노드\n",
    "def web_search(state: GraphState):\n",
    "    print(\"\\n=== Web Search ===\\n\")\n",
    "\n",
    "    question = state[\"question\"]\n",
    "    documents = state[\"documents\"]\n",
    "\n",
    "    docs = web_search_tool.invoke({\"query\": question})\n",
    "    \n",
    "    web_results = \"\\n\".join([d[\"content\"] for d in docs])\n",
    "    web_results = Document(page_content=web_results)\n",
    "    documents.append(web_results)\n",
    "\n",
    "    return {\"documents\": documents}"
   ]
  },
  {
   "cell_type": "markdown",
   "metadata": {},
   "source": [
    "# 조건부 엣지 활용"
   ]
  },
  {
   "cell_type": "code",
   "execution_count": 24,
   "metadata": {},
   "outputs": [],
   "source": [
    "def decide_to_generate(state: GraphState):\n",
    "    print(\"\\n=== Assess graded documents ===\\n\")\n",
    "\n",
    "    web_search = state[\"web_search\"]\n",
    "\n",
    "    if web_search == \"Yes\":\n",
    "        print(\n",
    "            \"===[Decision: All Document Are Not Relevant to Question, Query Rewrite]===\"\n",
    "        )\n",
    "        return \"web_search_node\"\n",
    "    else:\n",
    "        print(\"===[Decision: Generate]===\")\n",
    "        return \"generate\""
   ]
  },
  {
   "cell_type": "code",
   "execution_count": 40,
   "metadata": {},
   "outputs": [],
   "source": [
    "from langgraph.graph import START, END, StateGraph\n",
    "from langgraph.checkpoint.memory import MemorySaver\n",
    "\n",
    "memory = MemorySaver()\n",
    "\n",
    "workflow = StateGraph(GraphState)\n",
    "\n",
    "# 노드\n",
    "workflow.add_node(\"retrieve\", retrieve)\n",
    "workflow.add_node(\"grade_documents\",grade_documents)\n",
    "workflow.add_node(\"generate\", generate)\n",
    "workflow.add_node(\"query_rewrite\",query_rewrite)\n",
    "workflow.add_node(\"web_search_node\", web_search)\n",
    "\n",
    "# 엣지 연결\n",
    "# workflow.add_edge(START, \"retrieve\")\n",
    "# workflow.add_edge(\"retrieve\", \"grade_documents\")\n",
    "# workflow.add_conditional_edges(\n",
    "#     \"grade_documents\",\n",
    "#     decide_to_generate,\n",
    "#     {\n",
    "#         \"query_rewrite\": \"query_rewrite\",\n",
    "#         \"generate\": \"generate\"\n",
    "#     }\n",
    "# )\n",
    "\n",
    "workflow.add_edge(START, \"query_rewrite\")\n",
    "workflow.add_edge(\"query_rewrite\", \"retrieve\")\n",
    "workflow.add_edge(\"retrieve\", \"grade_documents\")\n",
    "workflow.add_edge(\"grade_documents\", \"web_search_node\")\n",
    "workflow.add_edge(\"web_search_node\", \"generate\")\n",
    "workflow.add_edge(\"generate\", END)\n",
    "\n",
    "app = workflow.compile(checkpointer=memory)"
   ]
  },
  {
   "cell_type": "code",
   "execution_count": 41,
   "metadata": {},
   "outputs": [
    {
     "name": "stdout",
     "output_type": "stream",
     "text": [
      "[ERROR] Visualize Graph Error: Failed to reach https://mermaid.ink/ API while trying to render your graph. Status code: 502.\n",
      "\n",
      "To resolve this issue:\n",
      "1. Check your internet connection and try again\n",
      "2. Try with higher retry settings: `draw_mermaid_png(..., max_retries=5, retry_delay=2.0)`\n",
      "3. Use the Pyppeteer rendering method which will render your graph locally in a browser: `draw_mermaid_png(..., draw_method=MermaidDrawMethod.PYPPETEER)`\n"
     ]
    }
   ],
   "source": [
    "from langchain_teddynote.graphs import visualize_graph\n",
    "\n",
    "visualize_graph(app)"
   ]
  },
  {
   "cell_type": "code",
   "execution_count": 42,
   "metadata": {},
   "outputs": [
    {
     "name": "stdout",
     "output_type": "stream",
     "text": [
      "\n",
      "=== Query Rewrite ===\n",
      "\n",
      "\n",
      "==================================================\n",
      "🔄 Node: \u001b[1;36mquery_rewrite\u001b[0m 🔄\n",
      "- - - - - - - - - - - - - - - - - - - - - - - - - \n",
      "삼성전자가 개발한 생성형 AI의 이름은 무엇인지에 대한 정보가 필요합니다.\n",
      "=== Retrieve ===\n",
      "\n",
      "\n",
      "=== Check Document Relevance to Question ===\n",
      "\n",
      "\n",
      "==================================================\n",
      "🔄 Node: \u001b[1;36mgrade_documents\u001b[0m 🔄\n",
      "- - - - - - - - - - - - - - - - - - - - - - - - - \n",
      "{\"binary_score\":\"no\"}\n",
      "=== Grade: Document Not Relevant ===\n",
      "\n",
      "{\"binary_score\":\"no\"}\n",
      "=== Grade: Document Not Relevant ===\n",
      "\n",
      "{\"binary_score\":\"no\"}\n",
      "=== Grade: Document Not Relevant ===\n",
      "\n",
      "{\"binary_score\":\"no\n",
      "=== Grade: Document Not Relevant ===\n",
      "\n",
      "\"}{\"binary_score\":\"no\"}\n",
      "=== Grade: Document Not Relevant ===\n",
      "\n",
      "{\"binary_score\":\"yes\"}\n",
      "=== Grade: Document Relevant ===\n",
      "\n",
      "{\"binary_score\":\"no\"}\n",
      "=== Grade: Document Not Relevant ===\n",
      "\n",
      "{\"binary_score\":\"no\"}\n",
      "=== Grade: Document Not Relevant ===\n",
      "\n",
      "{\"binary_score\":\"no\"}\n",
      "=== Grade: Document Not Relevant ===\n",
      "\n",
      "{\"binary_score\":\"no\"}\n",
      "=== Grade: Document Not Relevant ===\n",
      "\n",
      "\n",
      "=== Web Search ===\n",
      "\n",
      "\n",
      "=== Generation ===\n",
      "\n",
      "\n",
      "==================================================\n",
      "🔄 Node: \u001b[1;36mgenerate\u001b[0m 🔄\n",
      "- - - - - - - - - - - - - - - - - - - - - - - - - \n",
      "삼성전자가 개발한 생성형 AI의 이름은 '삼성 가우스'(Samsung Gauss)입니다.\n",
      "\n",
      "**Source**\n",
      "- (三星전자, 생성형 AI '삼성 가우스' 첫 공개, 2023-11-08)"
     ]
    }
   ],
   "source": [
    "from langchain_core.runnables import RunnableConfig\n",
    "from langchain_teddynote.messages import stream_graph, invoke_graph, random_uuid\n",
    "\n",
    "config = RunnableConfig(recursion_limit=20, configurable={\"thread_id\": random_uuid()})\n",
    "\n",
    "inputs = {\n",
    "    \"question\": \"삼성전자가 개발한 생성형 AI의 이름은?\"\n",
    "}\n",
    "\n",
    "stream_graph(app, inputs, config)"
   ]
  },
  {
   "cell_type": "code",
   "execution_count": 47,
   "metadata": {},
   "outputs": [
    {
     "name": "stdout",
     "output_type": "stream",
     "text": [
      "\n",
      "=== Query Rewrite ===\n",
      "\n",
      "\n",
      "==================================================\n",
      "🔄 Node: \u001b[1;36mquery_rewrite\u001b[0m 🔄\n",
      "- - - - - - - - - - - - - - - - - - - - - - - - - \n",
      "내 사주팔자의 천간과 지지의 균형이 나의 성격과 인생 경로에 어떤 영향을 미치는지 분석해 주세요. (출생일: 1995년 3월 28일, 출생시간: 오전 5시)\n",
      "=== Retrieve ===\n",
      "\n",
      "\n",
      "=== Check Document Relevance to Question ===\n",
      "\n",
      "\n",
      "==================================================\n",
      "🔄 Node: \u001b[1;36mgrade_documents\u001b[0m 🔄\n",
      "- - - - - - - - - - - - - - - - - - - - - - - - - \n",
      "{\"binary_score\":\"yes\"}\n",
      "=== Grade: Document Relevant ===\n",
      "\n",
      "{\"binary_score\":\"no\"}\n",
      "=== Grade: Document Not Relevant ===\n",
      "\n",
      "{\"binary_score\":\"no\"}\n",
      "=== Grade: Document Not Relevant ===\n",
      "\n",
      "{\"binary_score\":\"yes\n",
      "=== Grade: Document Relevant ===\n",
      "\n",
      "\"}{\"binary_score\":\"no\"}\n",
      "=== Grade: Document Not Relevant ===\n",
      "\n",
      "{\"binary_score\":\"no\n",
      "=== Grade: Document Not Relevant ===\n",
      "\n",
      "\"}{\"binary_score\":\"no\"}\n",
      "=== Grade: Document Not Relevant ===\n",
      "\n",
      "{\"binary_score\":\"no\"}\n",
      "=== Grade: Document Not Relevant ===\n",
      "\n",
      "{\"binary_score\":\"no\"}\n",
      "=== Grade: Document Not Relevant ===\n",
      "\n",
      "{\"binary_score\":\"no\n",
      "=== Grade: Document Not Relevant ===\n",
      "\n",
      "\"}\n",
      "=== Web Search ===\n",
      "\n",
      "\n",
      "=== Generation ===\n",
      "\n",
      "\n",
      "==================================================\n",
      "🔄 Node: \u001b[1;36mgenerate\u001b[0m 🔄\n",
      "- - - - - - - - - - - - - - - - - - - - - - - - - \n",
      "천간과 지지의 균형은 성격과 인생 경로에 중요한 영향을 미칩니다. 천간은 10자의 하늘 기운을, 지지는 12자의 땅 기운을 나타내며, 이 두 가지가 결합되어 사주팔자가 형성됩니다. 천간과 지지의 조화가 이루어질 경우, 성격은 안정적이고 긍정적이며 삶에서 좋은 기회를 더 많이 받을 수 있습니다. 반면, 불균형이 발생하면 감정적으로 불안정하고 의사결정에 어려움을 겪을 수 있습니다. 각 기둥이 태어날 때의 기운을 반영하고, 이는 개인의 성격 및 직업적 성향에도 영향을 미칩니다.\n",
      "\n",
      "**Source**\n",
      "- data/The-Four-Pillars-of-Destiny-Understanding-Character-Relationships-and-Potential-through-Chinese-Astrology.md"
     ]
    }
   ],
   "source": [
    "from langchain_core.runnables import RunnableConfig\n",
    "from langchain_teddynote.messages import stream_graph, invoke_graph, random_uuid\n",
    "\n",
    "config = RunnableConfig(recursion_limit=20, configurable={\"thread_id\": 1})\n",
    "question = \"How does the balance between the Heavenly Stems and Earthly Branches in my Ba Zi chart affect my personality and life path? 1995년 3월 28일 오시에 태어났어\"\n",
    "inputs = {\n",
    "    \"question\": question\n",
    "}\n",
    "\n",
    "stream_graph(app, inputs, config)"
   ]
  }
 ],
 "metadata": {
  "kernelspec": {
   "display_name": ".venv",
   "language": "python",
   "name": "python3"
  },
  "language_info": {
   "codemirror_mode": {
    "name": "ipython",
    "version": 3
   },
   "file_extension": ".py",
   "mimetype": "text/x-python",
   "name": "python",
   "nbconvert_exporter": "python",
   "pygments_lexer": "ipython3",
   "version": "3.11.9"
  }
 },
 "nbformat": 4,
 "nbformat_minor": 2
}
